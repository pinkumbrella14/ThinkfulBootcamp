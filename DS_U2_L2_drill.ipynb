{
 "cells": [
  {
   "cell_type": "markdown",
   "metadata": {},
   "source": [
    "##### Question\n",
    "For each of the following situations, decide if you would model using a regression or classification model. \n",
    "- The amount a person will spend on a given site in the next 24 months.\n",
    "- What color car someone is going to buy.\n",
    "- How many children a family will have.\n",
    "- If someone will sign up for a service.\n",
    "- The number of times someone will get sick in a year.\n",
    "- The probability someone will get sick in the next month.\n",
    "- Which medicine will work best for a given patient."
   ]
  },
  {
   "cell_type": "markdown",
   "metadata": {},
   "source": [
    "##### Answers\n",
    "- Regression, due to the fact that a spending amount can take on any value.\n",
    "- Classification, limited to some available color choices.\n",
    "- Either regression or classification. If classification, there will be some limited number of choices available.\n",
    "- Classification, because the outcome is basically yes/no.\n",
    "- Classification, because there is likely a limit on the most number of times someone can get sick in one year.\n",
    "- Classification, because it’s essentially assigning a probability to yes/no outcome.\n",
    "- Classification, because limited to a choice of medicine."
   ]
  },
  {
   "cell_type": "code",
   "execution_count": null,
   "metadata": {},
   "outputs": [],
   "source": []
  }
 ],
 "metadata": {
  "kernelspec": {
   "display_name": "Python 3",
   "language": "python",
   "name": "python3"
  },
  "language_info": {
   "codemirror_mode": {
    "name": "ipython",
    "version": 3
   },
   "file_extension": ".py",
   "mimetype": "text/x-python",
   "name": "python",
   "nbconvert_exporter": "python",
   "pygments_lexer": "ipython3",
   "version": "3.7.2"
  }
 },
 "nbformat": 4,
 "nbformat_minor": 2
}
