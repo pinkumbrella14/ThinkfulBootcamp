{
 "cells": [
  {
   "cell_type": "code",
   "execution_count": 1,
   "metadata": {},
   "outputs": [],
   "source": [
    "import numpy as np\n",
    "import pandas as pd\n",
    "import scipy\n",
    "import matplotlib.pyplot as plt\n",
    "%matplotlib inline"
   ]
  },
  {
   "cell_type": "markdown",
   "metadata": {},
   "source": [
    "#### Make two pupulations that have binomial distributions."
   ]
  },
  {
   "cell_type": "code",
   "execution_count": 2,
   "metadata": {},
   "outputs": [],
   "source": [
    "#pop 1 n = 10, p = 0.2, sample size = 10000\n",
    "#pop 2 n = 10, p = 0.5, sample size = 10000\n",
    "\n",
    "pop1 = np.random.binomial(10, 0.2, 10000)\n",
    "pop2 = np.random.binomial(10, 0.5, 10000)"
   ]
  },
  {
   "cell_type": "code",
   "execution_count": 9,
   "metadata": {},
   "outputs": [
    {
     "name": "stdout",
     "output_type": "stream",
     "text": [
      "2.014\n",
      "1.2603190072358665\n",
      "4.9961\n",
      "1.5896807195157148\n"
     ]
    }
   ],
   "source": [
    "#calculate the mean and std of each pop\n",
    "print(pop1.mean())\n",
    "print(pop1.std())\n",
    "print(pop2.mean())\n",
    "print(pop2.std())"
   ]
  },
  {
   "cell_type": "code",
   "execution_count": 3,
   "metadata": {},
   "outputs": [],
   "source": [
    "#take a sample of 100 from each population\n",
    "sample1 = np.random.choice(pop1, 100, replace = True)\n",
    "sample2 = np.random.choice(pop2, 100, replace = True)"
   ]
  },
  {
   "cell_type": "code",
   "execution_count": 4,
   "metadata": {},
   "outputs": [
    {
     "name": "stdout",
     "output_type": "stream",
     "text": [
      "2.08\n",
      "1.2383860464330176\n",
      "5.06\n",
      "1.5799999999999998\n"
     ]
    }
   ],
   "source": [
    "#calculate the mean and std dev of each sample\n",
    "print(sample1.mean())\n",
    "print(sample1.std())\n",
    "print(sample2.mean())\n",
    "print(sample2.std())"
   ]
  },
  {
   "cell_type": "markdown",
   "metadata": {},
   "source": [
    "#### 1. Increase or decrease the size of samples - calculate the means and standard deviations and create histograms."
   ]
  },
  {
   "cell_type": "markdown",
   "metadata": {},
   "source": [
    "##### Change sample size from 100 to 1000"
   ]
  },
  {
   "cell_type": "code",
   "execution_count": 5,
   "metadata": {},
   "outputs": [],
   "source": [
    "sample1_1000 = np.random.choice(pop1, 1000, replace = True)\n",
    "sample2_1000 = np.random.choice(pop2, 1000, replace = True)"
   ]
  },
  {
   "cell_type": "code",
   "execution_count": 13,
   "metadata": {},
   "outputs": [
    {
     "data": {
      "image/png": "[encoded data removed]",
      "text/plain": [
       "<Figure size 432x288 with 1 Axes>"
      ]
     },
     "metadata": {
      "needs_background": "light"
     },
     "output_type": "display_data"
    }
   ],
   "source": [
    "plt.hist(sample1_1000, alpha = 0.5, color = 'plum', label = 'sample1')\n",
    "plt.hist(sample2_1000, alpha = 0.5, color = 'darkorchid', label = 'sample2')\n",
    "plt.legend(loc = 'best')\n",
    "plt.show()"
   ]
  },
  {
   "cell_type": "code",
   "execution_count": 8,
   "metadata": {},
   "outputs": [
    {
     "name": "stdout",
     "output_type": "stream",
     "text": [
      "1.964\n",
      "1.26913513858848\n",
      "4.999\n",
      "1.584613202014927\n"
     ]
    }
   ],
   "source": [
    "print(sample1_1000.mean())\n",
    "print(sample1_1000.std())\n",
    "print(sample2_1000.mean())\n",
    "print(sample2_1000.std())"
   ]
  },
  {
   "cell_type": "markdown",
   "metadata": {},
   "source": [
    "Increasing the sample size to 1000 from 100 resulted in the means being slightly closer to the population means and the standard deviations being slightly smaller."
   ]
  },
  {
   "cell_type": "markdown",
   "metadata": {},
   "source": [
    "##### Change sample size to 20"
   ]
  },
  {
   "cell_type": "code",
   "execution_count": 10,
   "metadata": {},
   "outputs": [],
   "source": [
    "sample1_20 = np.random.choice(pop1, 20, replace = True)\n",
    "sample2_20 = np.random.choice(pop2, 20, replace = True)"
   ]
  },
  {
   "cell_type": "code",
   "execution_count": 14,
   "metadata": {},
   "outputs": [
    {
     "data": {
      "image/png": "[encoded data removed]",
      "text/plain": [
       "<Figure size 432x288 with 1 Axes>"
      ]
     },
     "metadata": {
      "needs_background": "light"
     },
     "output_type": "display_data"
    }
   ],
   "source": [
    "#plot historgrams\n",
    "plt.hist(sample1_20, alpha = 0.5, color = 'cyan', label = 'sample1')\n",
    "plt.hist(sample2_20, alpha = 0.5, color = 'steelblue', label = 'sample2')\n",
    "plt.legend(loc = 'best')\n",
    "plt.show()"
   ]
  },
  {
   "cell_type": "code",
   "execution_count": 16,
   "metadata": {},
   "outputs": [
    {
     "name": "stdout",
     "output_type": "stream",
     "text": [
      "1.95\n",
      "1.3955285736952863\n",
      "4.9\n",
      "1.8947295321496418\n"
     ]
    }
   ],
   "source": [
    "#calculate the mean and the std\n",
    "print(sample1_20.mean())\n",
    "print(sample1_20.std())\n",
    "print(sample2_20.mean())\n",
    "print(sample2_20.std())"
   ]
  },
  {
   "cell_type": "markdown",
   "metadata": {},
   "source": [
    "Decreasing the sample size to only 20 increased the standard deviations of the samples."
   ]
  },
  {
   "cell_type": "markdown",
   "metadata": {},
   "source": [
    "#### 2. Change the probability in population 1"
   ]
  },
  {
   "cell_type": "code",
   "execution_count": 17,
   "metadata": {},
   "outputs": [],
   "source": [
    "pop1_new = np.random.binomial(10, 0.3, 10000)"
   ]
  },
  {
   "cell_type": "code",
   "execution_count": 18,
   "metadata": {},
   "outputs": [],
   "source": [
    "sample1_new = np.random.choice(pop1_new, 100, replace = True)"
   ]
  },
  {
   "cell_type": "code",
   "execution_count": 19,
   "metadata": {},
   "outputs": [
    {
     "name": "stdout",
     "output_type": "stream",
     "text": [
      "Ttest_indResult(statistic=9.86210879080634, pvalue=8.075794741003861e-19)\n"
     ]
    }
   ],
   "source": [
    "#calculate the t value and p value with scipy.stats\n",
    "from scipy.stats import ttest_ind\n",
    "print(ttest_ind(sample2, sample1_new, equal_var = False))"
   ]
  },
  {
   "cell_type": "code",
   "execution_count": 20,
   "metadata": {},
   "outputs": [],
   "source": [
    "pop1_new2 = np.random.binomial(10, 0.4, 10000)\n",
    "sample1_new_2 = np.random.choice(pop1_new2, 100, replace = True)"
   ]
  },
  {
   "cell_type": "code",
   "execution_count": 22,
   "metadata": {},
   "outputs": [
    {
     "name": "stdout",
     "output_type": "stream",
     "text": [
      "Ttest_indResult(statistic=4.35195571307161, pvalue=2.169995880842549e-05)\n"
     ]
    }
   ],
   "source": [
    "#calculate the t value and p value again\n",
    "print(ttest_ind(sample2, sample1_new_2, equal_var = False))"
   ]
  },
  {
   "cell_type": "markdown",
   "metadata": {},
   "source": [
    "The t statistic is really changing because the propabilities between population 2, which is 0.5, and population 1 (new and new2), which are 0.3 and then 0.4 are getting closer together. The p value changes but still remains significant, in that it accurately predicts that the two means are different due to the populations being different."
   ]
  },
  {
   "cell_type": "markdown",
   "metadata": {},
   "source": [
    "#### 3. Change the population distributions (chaning to Poisson)"
   ]
  },
  {
   "cell_type": "code",
   "execution_count": 24,
   "metadata": {},
   "outputs": [],
   "source": [
    "poisson1 = np.random.poisson(0.5, 10000)\n",
    "poisson2 = np.random.poisson(1, 10000)"
   ]
  },
  {
   "cell_type": "code",
   "execution_count": 25,
   "metadata": {},
   "outputs": [],
   "source": [
    "sample_p_1 = np.random.choice(poisson1, 100, replace = True)\n",
    "sample_p_2 = np.random.choice(poisson2, 100, replace = True)"
   ]
  },
  {
   "cell_type": "code",
   "execution_count": 26,
   "metadata": {},
   "outputs": [
    {
     "name": "stdout",
     "output_type": "stream",
     "text": [
      "0.5086\n",
      "0.51\n",
      "1.0008\n",
      "1.0\n"
     ]
    }
   ],
   "source": [
    "#compute the means of populations and samples\n",
    "print(poisson1.mean())\n",
    "print(sample_p_1.mean())\n",
    "print(poisson2.mean())\n",
    "print(sample_p_2.mean())"
   ]
  },
  {
   "cell_type": "markdown",
   "metadata": {},
   "source": [
    "Sampling from a new distribution type still shows that the means of the samples are close to the population means, confirming the CLT."
   ]
  },
  {
   "cell_type": "code",
   "execution_count": null,
   "metadata": {},
   "outputs": [],
   "source": []
  }
 ],
 "metadata": {
  "kernelspec": {
   "display_name": "Python 3",
   "language": "python",
   "name": "python3"
  },
  "language_info": {
   "codemirror_mode": {
    "name": "ipython",
    "version": 3
   },
   "file_extension": ".py",
   "mimetype": "text/x-python",
   "name": "python",
   "nbconvert_exporter": "python",
   "pygments_lexer": "ipython3",
   "version": "3.7.2"
  }
 },
 "nbformat": 4,
 "nbformat_minor": 2
}
