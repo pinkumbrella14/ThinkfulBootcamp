{
 "cells": [
  {
   "cell_type": "code",
   "execution_count": 1,
   "metadata": {},
   "outputs": [
    {
     "data": {
      "text/plain": [
       "0.0625"
      ]
     },
     "execution_count": 1,
     "metadata": {},
     "output_type": "execute_result"
    }
   ],
   "source": [
    "#flip a balanced coin four times and get patterns HTTH, HHHH, TTHH\n",
    "#since the probability is (1/2) for each flip and outcome, the probability for each of the sequences is:\n",
    "(1/2) ** 4"
   ]
  },
  {
   "cell_type": "code",
   "execution_count": 2,
   "metadata": {},
   "outputs": [
    {
     "data": {
      "text/plain": [
       "0.5333333333333333"
      ]
     },
     "execution_count": 2,
     "metadata": {},
     "output_type": "execute_result"
    }
   ],
   "source": [
    "#If a list of people has 24 women and 21 men, then the probability of choosing a man from the list is 21/45. \n",
    "#What is the probability of not choosing a man?\n",
    "1 - (21/45)"
   ]
  },
  {
   "cell_type": "code",
   "execution_count": 3,
   "metadata": {},
   "outputs": [
    {
     "data": {
      "text/plain": [
       "5e-06"
      ]
     },
     "execution_count": 3,
     "metadata": {},
     "output_type": "execute_result"
    }
   ],
   "source": [
    "#The probability that Bernice will travel by plane sometime in the next year is 10%. \n",
    "#The probability of a plane crash at any time is .005%. \n",
    "#What is the probability that Bernice will be in a plane crash sometime in the next year?\n",
    "(.1) * (.00005) #how could you print w/o the scienctific notation?"
   ]
  },
  {
   "cell_type": "code",
   "execution_count": null,
   "metadata": {},
   "outputs": [],
   "source": [
    "#question 4\n",
    "#answer - it is not representative of the users of the website, just those that agreed to complete the survey. So,\n",
    "            #the average time computed for this population could be very different from the measure for the \n",
    "            #whole population of website users. "
   ]
  }
 ],
 "metadata": {
  "kernelspec": {
   "display_name": "Python 3",
   "language": "python",
   "name": "python3"
  },
  "language_info": {
   "codemirror_mode": {
    "name": "ipython",
    "version": 3
   },
   "file_extension": ".py",
   "mimetype": "text/x-python",
   "name": "python",
   "nbconvert_exporter": "python",
   "pygments_lexer": "ipython3",
   "version": "3.7.1"
  }
 },
 "nbformat": 4,
 "nbformat_minor": 2
}
