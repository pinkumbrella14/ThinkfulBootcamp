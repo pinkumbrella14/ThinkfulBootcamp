{
 "cells": [
  {
   "cell_type": "code",
   "execution_count": 6,
   "metadata": {},
   "outputs": [],
   "source": [
    "import pandas as pd\n",
    "import numpy as np\n",
    "import matplotlib.pyplot as plt\n",
    "import seaborn as sns\n",
    "import scipy.stats as stats\n",
    "\n",
    "#reset the default plot asthetics to be prettier\n",
    "sns.set_style('white')"
   ]
  },
  {
   "cell_type": "code",
   "execution_count": 15,
   "metadata": {},
   "outputs": [],
   "source": [
    "df = pd.read_csv('C:/Users/yakan/OneDrive/Documents/Thinkful/DS_Bootcamp/U2/capstone/income-tax-components-by-size-of-income-by-place-of-residence-beginning-tax-year-1999.csv')"
   ]
  },
  {
   "cell_type": "markdown",
   "metadata": {},
   "source": [
    "### Preliminary look at the data and some modifications."
   ]
  },
  {
   "cell_type": "code",
   "execution_count": 16,
   "metadata": {},
   "outputs": [
    {
     "data": {
      "text/html": [
       "<div>\n",
       "<style scoped>\n",
       "    .dataframe tbody tr th:only-of-type {\n",
       "        vertical-align: middle;\n",
       "    }\n",
       "\n",
       "    .dataframe tbody tr th {\n",
       "        vertical-align: top;\n",
       "    }\n",
       "\n",
       "    .dataframe thead th {\n",
       "        text-align: right;\n",
       "    }\n",
       "</style>\n",
       "<table border=\"1\" class=\"dataframe\">\n",
       "  <thead>\n",
       "    <tr style=\"text-align: right;\">\n",
       "      <th></th>\n",
       "      <th>Tax Year</th>\n",
       "      <th>Resident Type</th>\n",
       "      <th>Place of Residence</th>\n",
       "      <th>Country</th>\n",
       "      <th>State</th>\n",
       "      <th>County</th>\n",
       "      <th>Income Class</th>\n",
       "      <th>Disclosure</th>\n",
       "      <th>Number of All Returns</th>\n",
       "      <th>NY AGI of All Returns (in thousands) *</th>\n",
       "      <th>Deductions of All Returns (in thousands)</th>\n",
       "      <th>Dependent Exemptions of All Returns (in thousands)</th>\n",
       "      <th>Taxable Income of All Returns (in thousands)</th>\n",
       "      <th>Tax Before Credits of All Returns (in thousands)</th>\n",
       "      <th>Tax Liability of All Returns (in thousands) **</th>\n",
       "      <th>Place of Residence Sort Order</th>\n",
       "      <th>Income Class Sort Order</th>\n",
       "    </tr>\n",
       "  </thead>\n",
       "  <tbody>\n",
       "    <tr>\n",
       "      <th>0</th>\n",
       "      <td>2014</td>\n",
       "      <td>Full-Year Resident</td>\n",
       "      <td>New York City - Bronx</td>\n",
       "      <td>United States</td>\n",
       "      <td>New York</td>\n",
       "      <td>New York City - Bronx</td>\n",
       "      <td>Under 5,000</td>\n",
       "      <td>NaN</td>\n",
       "      <td>115872.0</td>\n",
       "      <td>28535.362</td>\n",
       "      <td>121985.033</td>\n",
       "      <td>1.000</td>\n",
       "      <td>3335.610</td>\n",
       "      <td>133.528</td>\n",
       "      <td>-7226.155</td>\n",
       "      <td>1</td>\n",
       "      <td>1</td>\n",
       "    </tr>\n",
       "    <tr>\n",
       "      <th>1</th>\n",
       "      <td>2014</td>\n",
       "      <td>Full-Year Resident</td>\n",
       "      <td>New York City - Bronx</td>\n",
       "      <td>United States</td>\n",
       "      <td>New York</td>\n",
       "      <td>New York City - Bronx</td>\n",
       "      <td>5,000 - 9,999</td>\n",
       "      <td>NaN</td>\n",
       "      <td>64472.0</td>\n",
       "      <td>497520.476</td>\n",
       "      <td>453287.232</td>\n",
       "      <td>3907.523</td>\n",
       "      <td>40325.721</td>\n",
       "      <td>1613.677</td>\n",
       "      <td>-24640.639</td>\n",
       "      <td>1</td>\n",
       "      <td>2</td>\n",
       "    </tr>\n",
       "    <tr>\n",
       "      <th>2</th>\n",
       "      <td>2014</td>\n",
       "      <td>Full-Year Resident</td>\n",
       "      <td>New York City - Bronx</td>\n",
       "      <td>United States</td>\n",
       "      <td>New York</td>\n",
       "      <td>New York City - Bronx</td>\n",
       "      <td>10,000 - 19,999</td>\n",
       "      <td>NaN</td>\n",
       "      <td>125775.0</td>\n",
       "      <td>1848243.085</td>\n",
       "      <td>1222947.457</td>\n",
       "      <td>87664.662</td>\n",
       "      <td>537630.966</td>\n",
       "      <td>21717.698</td>\n",
       "      <td>-83445.904</td>\n",
       "      <td>1</td>\n",
       "      <td>3</td>\n",
       "    </tr>\n",
       "    <tr>\n",
       "      <th>3</th>\n",
       "      <td>2014</td>\n",
       "      <td>Full-Year Resident</td>\n",
       "      <td>New York City - Bronx</td>\n",
       "      <td>United States</td>\n",
       "      <td>New York</td>\n",
       "      <td>New York City - Bronx</td>\n",
       "      <td>20,000 - 29,999</td>\n",
       "      <td>NaN</td>\n",
       "      <td>82181.0</td>\n",
       "      <td>2028682.259</td>\n",
       "      <td>867453.711</td>\n",
       "      <td>73712.451</td>\n",
       "      <td>1087516.097</td>\n",
       "      <td>47154.276</td>\n",
       "      <td>-11812.793</td>\n",
       "      <td>1</td>\n",
       "      <td>4</td>\n",
       "    </tr>\n",
       "    <tr>\n",
       "      <th>4</th>\n",
       "      <td>2014</td>\n",
       "      <td>Full-Year Resident</td>\n",
       "      <td>New York City - Bronx</td>\n",
       "      <td>United States</td>\n",
       "      <td>New York</td>\n",
       "      <td>New York City - Bronx</td>\n",
       "      <td>30,000 - 39,999</td>\n",
       "      <td>NaN</td>\n",
       "      <td>64824.0</td>\n",
       "      <td>2259143.529</td>\n",
       "      <td>713694.013</td>\n",
       "      <td>58814.362</td>\n",
       "      <td>1486635.154</td>\n",
       "      <td>70580.685</td>\n",
       "      <td>38910.764</td>\n",
       "      <td>1</td>\n",
       "      <td>5</td>\n",
       "    </tr>\n",
       "  </tbody>\n",
       "</table>\n",
       "</div>"
      ],
      "text/plain": [
       "   Tax Year       Resident Type     Place of Residence        Country  \\\n",
       "0      2014  Full-Year Resident  New York City - Bronx  United States   \n",
       "1      2014  Full-Year Resident  New York City - Bronx  United States   \n",
       "2      2014  Full-Year Resident  New York City - Bronx  United States   \n",
       "3      2014  Full-Year Resident  New York City - Bronx  United States   \n",
       "4      2014  Full-Year Resident  New York City - Bronx  United States   \n",
       "\n",
       "      State                 County     Income Class Disclosure  \\\n",
       "0  New York  New York City - Bronx      Under 5,000        NaN   \n",
       "1  New York  New York City - Bronx    5,000 - 9,999        NaN   \n",
       "2  New York  New York City - Bronx  10,000 - 19,999        NaN   \n",
       "3  New York  New York City - Bronx  20,000 - 29,999        NaN   \n",
       "4  New York  New York City - Bronx  30,000 - 39,999        NaN   \n",
       "\n",
       "   Number of All Returns  NY AGI of All Returns (in thousands) *  \\\n",
       "0               115872.0                               28535.362   \n",
       "1                64472.0                              497520.476   \n",
       "2               125775.0                             1848243.085   \n",
       "3                82181.0                             2028682.259   \n",
       "4                64824.0                             2259143.529   \n",
       "\n",
       "   Deductions of All Returns (in thousands)  \\\n",
       "0                                121985.033   \n",
       "1                                453287.232   \n",
       "2                               1222947.457   \n",
       "3                                867453.711   \n",
       "4                                713694.013   \n",
       "\n",
       "   Dependent Exemptions of All Returns (in thousands)  \\\n",
       "0                                              1.000    \n",
       "1                                           3907.523    \n",
       "2                                          87664.662    \n",
       "3                                          73712.451    \n",
       "4                                          58814.362    \n",
       "\n",
       "   Taxable Income of All Returns (in thousands)  \\\n",
       "0                                      3335.610   \n",
       "1                                     40325.721   \n",
       "2                                    537630.966   \n",
       "3                                   1087516.097   \n",
       "4                                   1486635.154   \n",
       "\n",
       "   Tax Before Credits of All Returns (in thousands)  \\\n",
       "0                                           133.528   \n",
       "1                                          1613.677   \n",
       "2                                         21717.698   \n",
       "3                                         47154.276   \n",
       "4                                         70580.685   \n",
       "\n",
       "   Tax Liability of All Returns (in thousands) **  \\\n",
       "0                                       -7226.155   \n",
       "1                                      -24640.639   \n",
       "2                                      -83445.904   \n",
       "3                                      -11812.793   \n",
       "4                                       38910.764   \n",
       "\n",
       "   Place of Residence Sort Order  Income Class Sort Order  \n",
       "0                              1                        1  \n",
       "1                              1                        2  \n",
       "2                              1                        3  \n",
       "3                              1                        4  \n",
       "4                              1                        5  "
      ]
     },
     "execution_count": 16,
     "metadata": {},
     "output_type": "execute_result"
    }
   ],
   "source": [
    "df.head()"
   ]
  },
  {
   "cell_type": "markdown",
   "metadata": {},
   "source": [
    "#### Print out the full list of columns in the data frame to begin identifying categorical and continuous variables."
   ]
  },
  {
   "cell_type": "code",
   "execution_count": 17,
   "metadata": {},
   "outputs": [
    {
     "data": {
      "text/plain": [
       "['Tax Year',\n",
       " 'Resident Type',\n",
       " 'Place of Residence',\n",
       " 'Country',\n",
       " 'State',\n",
       " 'County',\n",
       " 'Income Class',\n",
       " 'Disclosure',\n",
       " 'Number of All Returns',\n",
       " 'NY AGI of All Returns (in thousands) *',\n",
       " 'Deductions of All Returns (in thousands)',\n",
       " 'Dependent Exemptions of All Returns (in thousands)',\n",
       " 'Taxable Income of All Returns (in thousands)',\n",
       " 'Tax Before Credits of All Returns (in thousands)',\n",
       " 'Tax Liability of All Returns (in thousands) **',\n",
       " 'Place of Residence Sort Order',\n",
       " 'Income Class Sort Order']"
      ]
     },
     "execution_count": 17,
     "metadata": {},
     "output_type": "execute_result"
    }
   ],
   "source": [
    "list(df.columns)"
   ]
  },
  {
   "cell_type": "code",
   "execution_count": 18,
   "metadata": {},
   "outputs": [],
   "source": [
    "#rename the columns into easier names\n",
    "#df.rename(columns={\"A\": \"a\", \"B\": \"c\"})\n",
    "df = df.rename(columns = {\n",
    "    \"Tax Year\": \"tax_yr\",\n",
    "    \"Resident Type\": \"resident_type\",\n",
    "    \"Place of Residence\": \"residence_pl\",\n",
    "    \"Country\": \"cntry\",\n",
    "    \"State\": \"state\",\n",
    "    \"Income Class\": \"income_class\",\n",
    "    \"Disclosure\": \"disclosure\",\n",
    "    \"Number of All Returns\": \"all_returns_num\",\n",
    "    \"NY AGI of All Returns (in thousands) *\": \"agi\",\n",
    "    \"Deductions of All Returns (in thousands)\": \"deductions\",\n",
    "    \"Dependent Exemptions of All Returns (in thousands)\": \"depend_exempt\",\n",
    "    \"Taxable Income of All Returns (in thousands)\": \"tax_income\",\n",
    "    \"Tax Before Credits of All Returns (in thousands)\": \"tax_prior_credits\",\n",
    "    \"Tax Liability of All Returns (in thousands) **\": \"tax_liabil\",\n",
    "    \"Place of Residence Sort Order\": \"pl_of_res_sort_order\",\n",
    "    \"Income Class Sort Order\": \"inc_class_sort_order\"\n",
    "})"
   ]
  },
  {
   "cell_type": "code",
   "execution_count": 58,
   "metadata": {},
   "outputs": [
    {
     "data": {
      "text/html": [
       "<div>\n",
       "<style scoped>\n",
       "    .dataframe tbody tr th:only-of-type {\n",
       "        vertical-align: middle;\n",
       "    }\n",
       "\n",
       "    .dataframe tbody tr th {\n",
       "        vertical-align: top;\n",
       "    }\n",
       "\n",
       "    .dataframe thead th {\n",
       "        text-align: right;\n",
       "    }\n",
       "</style>\n",
       "<table border=\"1\" class=\"dataframe\">\n",
       "  <thead>\n",
       "    <tr style=\"text-align: right;\">\n",
       "      <th></th>\n",
       "      <th>tax_yr</th>\n",
       "      <th>all_returns_num</th>\n",
       "      <th>agi</th>\n",
       "      <th>deductions</th>\n",
       "      <th>depend_exempt</th>\n",
       "      <th>tax_income</th>\n",
       "      <th>tax_prior_credits</th>\n",
       "      <th>tax_liabil</th>\n",
       "      <th>pl_of_res_sort_order</th>\n",
       "      <th>inc_class_sort_order</th>\n",
       "    </tr>\n",
       "  </thead>\n",
       "  <tbody>\n",
       "    <tr>\n",
       "      <th>count</th>\n",
       "      <td>23735.000000</td>\n",
       "      <td>2.343900e+04</td>\n",
       "      <td>2.343900e+04</td>\n",
       "      <td>2.343900e+04</td>\n",
       "      <td>2.343900e+04</td>\n",
       "      <td>2.343900e+04</td>\n",
       "      <td>2.343900e+04</td>\n",
       "      <td>2.343900e+04</td>\n",
       "      <td>23735.000000</td>\n",
       "      <td>23735.000000</td>\n",
       "    </tr>\n",
       "    <tr>\n",
       "      <th>mean</th>\n",
       "      <td>2007.220645</td>\n",
       "      <td>2.531241e+04</td>\n",
       "      <td>2.137719e+06</td>\n",
       "      <td>3.229005e+05</td>\n",
       "      <td>1.411666e+04</td>\n",
       "      <td>1.752082e+06</td>\n",
       "      <td>1.204284e+05</td>\n",
       "      <td>8.154471e+04</td>\n",
       "      <td>81.604803</td>\n",
       "      <td>7.073773</td>\n",
       "    </tr>\n",
       "    <tr>\n",
       "      <th>std</th>\n",
       "      <td>4.632102</td>\n",
       "      <td>2.385621e+05</td>\n",
       "      <td>1.834359e+07</td>\n",
       "      <td>2.876288e+06</td>\n",
       "      <td>1.312834e+05</td>\n",
       "      <td>1.533540e+07</td>\n",
       "      <td>1.079722e+06</td>\n",
       "      <td>8.377998e+05</td>\n",
       "      <td>62.110581</td>\n",
       "      <td>3.827778</td>\n",
       "    </tr>\n",
       "    <tr>\n",
       "      <th>min</th>\n",
       "      <td>1999.000000</td>\n",
       "      <td>0.000000e+00</td>\n",
       "      <td>-1.370167e+07</td>\n",
       "      <td>0.000000e+00</td>\n",
       "      <td>0.000000e+00</td>\n",
       "      <td>0.000000e+00</td>\n",
       "      <td>0.000000e+00</td>\n",
       "      <td>-4.674791e+05</td>\n",
       "      <td>1.000000</td>\n",
       "      <td>1.000000</td>\n",
       "    </tr>\n",
       "    <tr>\n",
       "      <th>25%</th>\n",
       "      <td>2003.000000</td>\n",
       "      <td>2.210000e+02</td>\n",
       "      <td>1.088650e+04</td>\n",
       "      <td>2.882000e+03</td>\n",
       "      <td>4.400000e+01</td>\n",
       "      <td>4.779388e+03</td>\n",
       "      <td>2.360000e+02</td>\n",
       "      <td>3.646000e+01</td>\n",
       "      <td>30.000000</td>\n",
       "      <td>4.000000</td>\n",
       "    </tr>\n",
       "    <tr>\n",
       "      <th>50%</th>\n",
       "      <td>2008.000000</td>\n",
       "      <td>1.618000e+03</td>\n",
       "      <td>7.498000e+04</td>\n",
       "      <td>1.913200e+04</td>\n",
       "      <td>5.960000e+02</td>\n",
       "      <td>4.828600e+04</td>\n",
       "      <td>2.573000e+03</td>\n",
       "      <td>1.364905e+03</td>\n",
       "      <td>59.000000</td>\n",
       "      <td>7.000000</td>\n",
       "    </tr>\n",
       "    <tr>\n",
       "      <th>75%</th>\n",
       "      <td>2011.000000</td>\n",
       "      <td>5.996000e+03</td>\n",
       "      <td>3.659255e+05</td>\n",
       "      <td>7.283900e+04</td>\n",
       "      <td>2.907000e+03</td>\n",
       "      <td>2.588935e+05</td>\n",
       "      <td>1.526408e+04</td>\n",
       "      <td>8.602500e+03</td>\n",
       "      <td>128.000000</td>\n",
       "      <td>10.000000</td>\n",
       "    </tr>\n",
       "    <tr>\n",
       "      <th>max</th>\n",
       "      <td>2014.000000</td>\n",
       "      <td>9.082186e+06</td>\n",
       "      <td>6.736595e+08</td>\n",
       "      <td>1.092628e+08</td>\n",
       "      <td>4.720151e+06</td>\n",
       "      <td>5.755124e+08</td>\n",
       "      <td>3.912255e+07</td>\n",
       "      <td>3.501178e+07</td>\n",
       "      <td>250.000000</td>\n",
       "      <td>14.000000</td>\n",
       "    </tr>\n",
       "  </tbody>\n",
       "</table>\n",
       "</div>"
      ],
      "text/plain": [
       "             tax_yr  all_returns_num           agi    deductions  \\\n",
       "count  23735.000000     2.343900e+04  2.343900e+04  2.343900e+04   \n",
       "mean    2007.220645     2.531241e+04  2.137719e+06  3.229005e+05   \n",
       "std        4.632102     2.385621e+05  1.834359e+07  2.876288e+06   \n",
       "min     1999.000000     0.000000e+00 -1.370167e+07  0.000000e+00   \n",
       "25%     2003.000000     2.210000e+02  1.088650e+04  2.882000e+03   \n",
       "50%     2008.000000     1.618000e+03  7.498000e+04  1.913200e+04   \n",
       "75%     2011.000000     5.996000e+03  3.659255e+05  7.283900e+04   \n",
       "max     2014.000000     9.082186e+06  6.736595e+08  1.092628e+08   \n",
       "\n",
       "       depend_exempt    tax_income  tax_prior_credits    tax_liabil  \\\n",
       "count   2.343900e+04  2.343900e+04       2.343900e+04  2.343900e+04   \n",
       "mean    1.411666e+04  1.752082e+06       1.204284e+05  8.154471e+04   \n",
       "std     1.312834e+05  1.533540e+07       1.079722e+06  8.377998e+05   \n",
       "min     0.000000e+00  0.000000e+00       0.000000e+00 -4.674791e+05   \n",
       "25%     4.400000e+01  4.779388e+03       2.360000e+02  3.646000e+01   \n",
       "50%     5.960000e+02  4.828600e+04       2.573000e+03  1.364905e+03   \n",
       "75%     2.907000e+03  2.588935e+05       1.526408e+04  8.602500e+03   \n",
       "max     4.720151e+06  5.755124e+08       3.912255e+07  3.501178e+07   \n",
       "\n",
       "       pl_of_res_sort_order  inc_class_sort_order  \n",
       "count          23735.000000          23735.000000  \n",
       "mean              81.604803              7.073773  \n",
       "std               62.110581              3.827778  \n",
       "min                1.000000              1.000000  \n",
       "25%               30.000000              4.000000  \n",
       "50%               59.000000              7.000000  \n",
       "75%              128.000000             10.000000  \n",
       "max              250.000000             14.000000  "
      ]
     },
     "execution_count": 58,
     "metadata": {},
     "output_type": "execute_result"
    }
   ],
   "source": [
    "df.describe()"
   ]
  },
  {
   "cell_type": "markdown",
   "metadata": {},
   "source": [
    "It seems like the following columns are continuous variables:\n",
    "\n",
    "- tax_yr\n",
    "- all_returns_num\n",
    "- agi\n",
    "- deductions\n",
    "- depend_exempt\n",
    "- tax_income\n",
    "- tax_prior_credits\n",
    "- tax_liabil\n",
    "- pl_of_res_sort_order\n",
    "- inc_class_sort_order\n",
    "\n",
    "It seems like the following columns are categorical variables:\n",
    "\n",
    "- resident_type\n",
    "- residence_pl\n",
    "- cntry\n",
    "- state\n",
    "- income_class\n",
    "- disclosure"
   ]
  },
  {
   "cell_type": "markdown",
   "metadata": {},
   "source": [
    "### Narrow down the data set to an outcome variable and additional five variables to work with.\n",
    "#### (These will act as the basis for feature engineering and will be explored with univariate and bivariate analysis methods.)"
   ]
  },
  {
   "cell_type": "code",
   "execution_count": 19,
   "metadata": {},
   "outputs": [
    {
     "data": {
      "image/png": "[encoded data removed]",
      "text/plain": [
       "<Figure size 432x288 with 1 Axes>"
      ]
     },
     "metadata": {},
     "output_type": "display_data"
    }
   ],
   "source": [
    "#let's take a look at the distribution of deductions of all returns\n",
    "#(which is reported in thousands in this data set)\n",
    "deduct = df['deductions']\n",
    "deduct_no_na = deduct[~np.isnan(deduct)] \n",
    "\n",
    "#sns.distplot(df['deductions'].astype(np.float32).notnull(), hist = True)\n",
    "#plt.show()\n",
    "\n",
    "sns.distplot(deduct_no_na, hist = True)\n",
    "plt.show()"
   ]
  },
  {
   "cell_type": "markdown",
   "metadata": {},
   "source": [
    "It seems like the amount of deductions from the returns has a very long right tail, which implies that there are a large number of outliers. Deductions will be the outcome variable of interest in this data set, because it is likely influenced by a number of other factors, such as total taxable income, number of dependent exemptions, state, and income class. \n",
    "\n",
    "Taxable income of all returns (tax_income), dependent exemptions of all returns (depend_exempt), state, and income class (income_class) will act as the other variables of interest from this data set."
   ]
  },
  {
   "cell_type": "markdown",
   "metadata": {},
   "source": [
    "#### Exploring data with univariate and bivariate methods."
   ]
  },
  {
   "cell_type": "markdown",
   "metadata": {},
   "source": [
    "##### Explore the continuous variables"
   ]
  },
  {
   "cell_type": "code",
   "execution_count": 20,
   "metadata": {},
   "outputs": [
    {
     "data": {
      "text/plain": [
       "Text(0.5, 1.0, 'Dependent Exemptions')"
      ]
     },
     "execution_count": 20,
     "metadata": {},
     "output_type": "execute_result"
    },
    {
     "data": {
      "image/png": "[encoded data removed]",
      "text/plain": [
       "<Figure size 432x288 with 2 Axes>"
      ]
     },
     "metadata": {},
     "output_type": "display_data"
    }
   ],
   "source": [
    "#plot tax_income and depend_exempt to check for notmality\n",
    "fig = plt.figure()\n",
    "\n",
    "fig.add_subplot(221)\n",
    "plt.hist(df['tax_income'].dropna())\n",
    "plt.title('Tax Income')\n",
    "\n",
    "fig.add_subplot(222)\n",
    "plt.hist(df['depend_exempt'].dropna())\n",
    "plt.title('Dependent Exemptions')"
   ]
  },
  {
   "cell_type": "markdown",
   "metadata": {},
   "source": [
    "The histograms of the continuous variables are not very useful - they just show that there are a very large number of observations that are in a very narrow range of values. So, perhaps boxplots of these could shine some more light."
   ]
  },
  {
   "cell_type": "code",
   "execution_count": 21,
   "metadata": {},
   "outputs": [
    {
     "data": {
      "image/png": "[encoded data removed]",
      "text/plain": [
       "<Figure size 432x288 with 1 Axes>"
      ]
     },
     "metadata": {},
     "output_type": "display_data"
    }
   ],
   "source": [
    "plt.boxplot((df['tax_income'].dropna()), notch=True, sym=\"o\", \n",
    "            labels=[\"Tax Income\"])\n",
    "plt.show()"
   ]
  },
  {
   "cell_type": "code",
   "execution_count": 62,
   "metadata": {},
   "outputs": [
    {
     "data": {
      "image/png": "[encoded data removed]",
      "text/plain": [
       "<Figure size 1080x432 with 1 Axes>"
      ]
     },
     "metadata": {},
     "output_type": "display_data"
    }
   ],
   "source": [
    "plt.boxplot((df['depend_exempt'].dropna()), notch = True, sym = '+',\n",
    "            labels = [\"Dependent Exempt's\"])\n",
    "plt.show()"
   ]
  },
  {
   "cell_type": "markdown",
   "metadata": {},
   "source": [
    "The taxable income seems to have a large number of outliers, with the bulk clustering around the lower values. However, the dependent exemptions (in thousands) seems to have a smaller, tighter group of outliers with values above 4 million. The rest of the points are all under one million. This is a good candidate for feature development."
   ]
  },
  {
   "cell_type": "markdown",
   "metadata": {},
   "source": [
    "Let's take a look at the relationship between taxable income and dependent exemtion values."
   ]
  },
  {
   "cell_type": "code",
   "execution_count": 63,
   "metadata": {},
   "outputs": [
    {
     "data": {
      "image/png": "[encoded data removed]",
      "text/plain": [
       "<Figure size 1080x432 with 1 Axes>"
      ]
     },
     "metadata": {},
     "output_type": "display_data"
    }
   ],
   "source": [
    "sns.regplot(\n",
    "    df['tax_income'],\n",
    "    y = df['depend_exempt'],\n",
    "    y_jitter = .49,\n",
    "    order = 2, \n",
    "    scatter_kws = {'alpha': 0.3},\n",
    "    line_kws = {'color': 'black'},\n",
    "    ci = None\n",
    ")\n",
    "plt.show()"
   ]
  },
  {
   "cell_type": "markdown",
   "metadata": {},
   "source": [
    "These two variables are not highly correlated, since there is no visible trend around the fitted line of the plot. There is some suggestion of a non-linear relationship. However, the most tricking observation is the outlying group of values, which is what the box plot of the dependents' exemptions variable showed. This further confirms that it is a really good candidate for feature engineering."
   ]
  },
  {
   "cell_type": "markdown",
   "metadata": {},
   "source": [
    "It is also worthwhile to look at the correlation between taxable income, tax credit amount, agi, and tax liability amount, since there is a possibility that they may be correlated."
   ]
  },
  {
   "cell_type": "code",
   "execution_count": 64,
   "metadata": {},
   "outputs": [
    {
     "name": "stdout",
     "output_type": "stream",
     "text": [
      "                   tax_income  tax_prior_credits  tax_liabil       agi\n",
      "tax_income           1.000000           0.994419    0.936408  0.997698\n",
      "tax_prior_credits    0.994419           1.000000    0.919566  0.989005\n",
      "tax_liabil           0.936408           0.919566    1.000000  0.925477\n",
      "agi                  0.997698           0.989005    0.925477  1.000000\n"
     ]
    }
   ],
   "source": [
    "df_subset = df.loc[:, ['tax_income', 'tax_prior_credits', 'tax_liabil', 'agi']]\n",
    "corr_matrix = df_subset.corr()\n",
    "print(corr_matrix)"
   ]
  },
  {
   "cell_type": "markdown",
   "metadata": {},
   "source": [
    "It seems like these four variables are really highly correlated. This makes sense, because the adjusted gross income (agi) is computed from the total taxable income reported, minus the tax credits and plus additional liabilities. Since these variables are essentially computed from each other and are highly correlated, it does not make sense to keep all of them in a model. \n",
    "\n",
    "I think it would be interesting to retain one variable, such as AGI, for the model and use the other ones to come up with some additional features."
   ]
  },
  {
   "cell_type": "markdown",
   "metadata": {},
   "source": [
    "##### Explore the categorical variables"
   ]
  },
  {
   "cell_type": "code",
   "execution_count": 66,
   "metadata": {},
   "outputs": [
    {
     "data": {
      "text/plain": [
       "array(['New York', 'Alabama', 'Alaska', 'Arizona', 'Arkansas',\n",
       "       'California', 'Colorado', 'Connecticut', 'Delaware',\n",
       "       'District of Columbia', 'Florida', 'Georgia', 'Hawaii', 'Idaho',\n",
       "       'Illinois', 'Indiana', 'Iowa', 'Kansas', 'Kentucky', 'Louisiana',\n",
       "       'Maine', 'Maryland', 'Massachusetts', 'Michigan', 'Minnesota',\n",
       "       'Mississippi', 'Missouri', 'Montana', 'Nebraska', 'Nevada',\n",
       "       'New Hampshire', 'New Jersey', 'New Mexico', 'North Carolina',\n",
       "       'North Dakota', 'Ohio', 'Oklahoma', 'Oregon', 'Pennsylvania',\n",
       "       'Rhode Island', 'South Carolina', 'South Dakota', 'Tennessee',\n",
       "       'Texas', 'Utah', 'Vermont', 'Virginia', 'Washington',\n",
       "       'West Virginia', 'Wisconsin', 'Wyoming', 'All', 'Not Applicable',\n",
       "       'All - Excluding New York', 'All Other States'], dtype=object)"
      ]
     },
     "execution_count": 66,
     "metadata": {},
     "output_type": "execute_result"
    }
   ],
   "source": [
    "#check how many states are included in this data set\n",
    "df.state.unique()"
   ]
  },
  {
   "cell_type": "markdown",
   "metadata": {},
   "source": [
    "There are a number of different states represented in the data set; it would be worthwhile to break this up into 'New York', 'Other States', and 'NA' groups and perhaps exclude observations under 'All' or 'All - Excluding New York', since it's not clear which states these indicate. It would also be worthwhile to separate them by region of the country, such as Northeast, Southeast, 'Central', 'Northwest', and 'Southwest' to see if the area has an impact on deductions."
   ]
  },
  {
   "cell_type": "code",
   "execution_count": null,
   "metadata": {},
   "outputs": [],
   "source": []
  },
  {
   "cell_type": "code",
   "execution_count": null,
   "metadata": {},
   "outputs": [],
   "source": []
  },
  {
   "cell_type": "code",
   "execution_count": null,
   "metadata": {},
   "outputs": [],
   "source": []
  },
  {
   "cell_type": "markdown",
   "metadata": {},
   "source": [
    "#### Designing 10 new features."
   ]
  },
  {
   "cell_type": "markdown",
   "metadata": {},
   "source": [
    "##### Feature #1"
   ]
  },
  {
   "cell_type": "code",
   "execution_count": 22,
   "metadata": {},
   "outputs": [],
   "source": [
    "features = pd.DataFrame()"
   ]
  },
  {
   "cell_type": "code",
   "execution_count": 23,
   "metadata": {},
   "outputs": [
    {
     "name": "stdout",
     "output_type": "stream",
     "text": [
      "0    23719\n",
      "1       16\n",
      "Name: dependent_hi_lo, dtype: int64\n"
     ]
    }
   ],
   "source": [
    "features['dependent_hi_lo'] = np.where(df['depend_exempt'] >= 4000000, 1, 0)\n",
    "#print(features['dependent_cat'].describe())\n",
    "#print(features.groupby('dependent_cat').count())\n",
    "#features.groupby('dependent_cat').agg('sum')\n",
    "print(features['dependent_hi_lo'].value_counts())"
   ]
  },
  {
   "cell_type": "markdown",
   "metadata": {},
   "source": [
    "The first feature makes it possible to evlauate the effect of individuals reporting very high values of dependents' exemptions (above four million dollars) vs. everyone else. There are 16 tax returns reporting that value, so it actually makes sense to set up another feature from this variable that breaks the values down into more categories."
   ]
  },
  {
   "cell_type": "markdown",
   "metadata": {},
   "source": [
    "##### Feature #2"
   ]
  },
  {
   "cell_type": "code",
   "execution_count": 24,
   "metadata": {},
   "outputs": [],
   "source": [
    "bin = [0, 5000, 10000, 100000, 250000, 500000, 1000000, 4000000, 5000000]\n",
    "features['dependent_cat'] = pd.cut(df.depend_exempt, bin)"
   ]
  },
  {
   "cell_type": "code",
   "execution_count": 25,
   "metadata": {},
   "outputs": [
    {
     "data": {
      "image/png": "[encoded data removed]",
      "text/plain": [
       "<Figure size 1080x432 with 1 Axes>"
      ]
     },
     "metadata": {},
     "output_type": "display_data"
    }
   ],
   "source": [
    "sns.set(style=\"whitegrid\", color_codes=True)\n",
    "sns.set(rc={'figure.figsize':(15, 6)})\n",
    "\n",
    "#draw histogram plot to see how many values fall into each category\n",
    "sns.countplot(x = 'dependent_cat', data = features, palette = 'hls')\n",
    "plt.show()"
   ]
  },
  {
   "cell_type": "markdown",
   "metadata": {},
   "source": [
    "Breaking the variable down into a wider range of categories makes for a better feature, because it would help to ascertain how different ranges of the dependent exemption amounts may impact the total deductions."
   ]
  },
  {
   "cell_type": "markdown",
   "metadata": {},
   "source": [
    "##### Feature #3"
   ]
  },
  {
   "cell_type": "markdown",
   "metadata": {},
   "source": [
    "Since these are returns filed in New York, it would be useful to have a binary variable that describes if the return if filed in New York or not, so this is a potentially useful additional feature."
   ]
  },
  {
   "cell_type": "code",
   "execution_count": 26,
   "metadata": {},
   "outputs": [],
   "source": [
    "features['ny_yes_no'] = np.where((df['state'].isin(['New York'])), 1, 0)"
   ]
  },
  {
   "cell_type": "markdown",
   "metadata": {},
   "source": [
    "##### Feature #4"
   ]
  },
  {
   "cell_type": "markdown",
   "metadata": {},
   "source": [
    "Furthermore, there could be a relationship between the area of the country and the amount taken in deductions, so it would also be worthwhile to map the state variable to an area of the country as a new feature."
   ]
  },
  {
   "cell_type": "code",
   "execution_count": 27,
   "metadata": {},
   "outputs": [],
   "source": [
    "features['area'] = ''\n",
    "features.loc[(df['state'].isin(['Connecticut', 'Maine', 'Massachusetts', 'New Hampshire', 'New York', 'New Jersey',\n",
    "                         'Pennsylvania', 'Rhode Island', 'Vermont', 'Maryland',\n",
    "                               'Delaware', 'District of Columbia'])), 'area'] = 'NE'\n",
    "features.loc[df['state'].isin(['Alabama', 'Georgia', 'Florida', 'Kentucky', 'Mississippi',\n",
    "                              'North Carolina', 'South Carolina', 'Louisiana', 'Tennessee',\n",
    "                              'Virginia']), 'area'] = 'SE'\n",
    "features.loc[df['state'].isin(['North Dakota', 'South Dakota', 'Nebraska', 'Kansas', 'Oklahoma', 'Texas',\n",
    "                               'Minnesota', 'Iowa', 'Missouri', 'Arkansas', 'Wisconsin', 'Illinois',\n",
    "                               'Indiana', 'Ohio', 'West Virginia']), 'area'] = 'Central' #35\n",
    "features.loc[df['state'].isin(['Alaska', 'Arizona', 'California', 'Colorado', 'Hawaii', 'Idaho', 'Montana',\n",
    "                               'Nevada', 'New Mexico', 'Oregon', 'Utah', 'Washington', \n",
    "                               'Wyoming']), 'area'] = 'West'\n",
    "features.loc[df['state'].isin(['All', 'All - Excluding New York', 'All Other States']), 'area'] = 'Other'\n",
    "features.loc[df['state'].isin(['Not Applicable']), 'area'] = 'NA'"
   ]
  },
  {
   "cell_type": "code",
   "execution_count": 28,
   "metadata": {},
   "outputs": [
    {
     "data": {
      "text/plain": [
       "NE         15791\n",
       "Central     1948\n",
       "NA          1902\n",
       "SE          1664\n",
       "West        1598\n",
       "Other        624\n",
       "             208\n",
       "Name: area, dtype: int64"
      ]
     },
     "execution_count": 28,
     "metadata": {},
     "output_type": "execute_result"
    }
   ],
   "source": [
    "features['area'].value_counts()"
   ]
  },
  {
   "cell_type": "markdown",
   "metadata": {},
   "source": [
    "##### Feature #5"
   ]
  },
  {
   "cell_type": "code",
   "execution_count": 29,
   "metadata": {},
   "outputs": [],
   "source": [
    "features['inc_liab_ratio'] = df['tax_income'] / df['tax_liabil']"
   ]
  },
  {
   "cell_type": "code",
   "execution_count": 75,
   "metadata": {},
   "outputs": [
    {
     "data": {
      "image/png": "[encoded data removed]",
      "text/plain": [
       "<Figure size 1080x432 with 1 Axes>"
      ]
     },
     "metadata": {},
     "output_type": "display_data"
    }
   ],
   "source": [
    "plt.boxplot((features['inc_liab_ratio'].dropna()), notch = True, sym = '+',\n",
    "            labels = [\"Income to Liability Ratio\"])\n",
    "plt.show()"
   ]
  },
  {
   "cell_type": "markdown",
   "metadata": {},
   "source": [
    "The ratio of tax liability to reported income is a very interesting feature. The majority of the data points cluster around one (or a very small interval around one), which suggests that most individuals liability is equal to their income. There are also individuals with higher incomes than tax liability and some individuals whose income to liability ratio is negative.\n",
    "\n",
    "It might be interesting to break this down further into folks with positive ratio and those with negative ratio."
   ]
  },
  {
   "cell_type": "code",
   "execution_count": 31,
   "metadata": {},
   "outputs": [
    {
     "name": "stdout",
     "output_type": "stream",
     "text": [
      "                tax_income  tax_liabil  deductions  inc_liab_ratio\n",
      "tax_income        1.000000    0.936408    0.871269        0.000910\n",
      "tax_liabil        0.936408    1.000000    0.870278       -0.010916\n",
      "deductions        0.871269    0.870278    1.000000       -0.010550\n",
      "inc_liab_ratio    0.000910   -0.010916   -0.010550        1.000000\n"
     ]
    }
   ],
   "source": [
    "#check to see how the ratio correlates to the variables that generated it and the outcome of interest\n",
    "\n",
    "\n",
    "\n",
    "############ask about this####### why is there the NaN? What happened in the data set merge?\n",
    "df_subset = df.loc[:, ['tax_income', 'tax_liabil', 'deductions']]\n",
    "df_subset['inc_liab_ratio'] = features['inc_liab_ratio']\n",
    "\n",
    "#frames = [df_subset, features_subset]\n",
    "#concat_df = pd.concat(frames, sort = False)\n",
    "\n",
    "corr_matrix = df_subset.corr()\n",
    "print(corr_matrix)"
   ]
  },
  {
   "cell_type": "markdown",
   "metadata": {},
   "source": [
    "##### Feature #6"
   ]
  },
  {
   "cell_type": "code",
   "execution_count": 77,
   "metadata": {},
   "outputs": [],
   "source": [
    "features['liab_to_credits'] = df['tax_liabil'] / df['tax_prior_credits']"
   ]
  },
  {
   "cell_type": "code",
   "execution_count": 78,
   "metadata": {},
   "outputs": [
    {
     "name": "stderr",
     "output_type": "stream",
     "text": [
      "C:\\Users\\yaaaxv\\AppData\\Local\\Continuum\\anaconda3\\lib\\site-packages\\numpy\\core\\_methods.py:75: RuntimeWarning: invalid value encountered in reduce\n",
      "  ret = umr_sum(arr, axis, dtype, out, keepdims)\n"
     ]
    },
    {
     "data": {
      "image/png": "[encoded data removed]",
      "text/plain": [
       "<Figure size 1080x432 with 1 Axes>"
      ]
     },
     "metadata": {},
     "output_type": "display_data"
    }
   ],
   "source": [
    "plt.boxplot((features['liab_to_credits'].dropna()), notch = True, sym = '+',\n",
    "            labels = [\"Liability to Credits Ratio\"])\n",
    "plt.show()"
   ]
  },
  {
   "cell_type": "code",
   "execution_count": null,
   "metadata": {},
   "outputs": [],
   "source": []
  },
  {
   "cell_type": "code",
   "execution_count": null,
   "metadata": {},
   "outputs": [],
   "source": []
  },
  {
   "cell_type": "code",
   "execution_count": null,
   "metadata": {},
   "outputs": [],
   "source": []
  },
  {
   "cell_type": "code",
   "execution_count": 79,
   "metadata": {},
   "outputs": [
    {
     "data": {
      "text/html": [
       "<div>\n",
       "<style scoped>\n",
       "    .dataframe tbody tr th:only-of-type {\n",
       "        vertical-align: middle;\n",
       "    }\n",
       "\n",
       "    .dataframe tbody tr th {\n",
       "        vertical-align: top;\n",
       "    }\n",
       "\n",
       "    .dataframe thead th {\n",
       "        text-align: right;\n",
       "    }\n",
       "</style>\n",
       "<table border=\"1\" class=\"dataframe\">\n",
       "  <thead>\n",
       "    <tr style=\"text-align: right;\">\n",
       "      <th></th>\n",
       "      <th>dependent_hi_lo</th>\n",
       "      <th>ny_yes_no</th>\n",
       "      <th>inc_liab_ratio</th>\n",
       "      <th>liab_to_credits</th>\n",
       "      <th>dependent_cat_(0, 5000]</th>\n",
       "      <th>dependent_cat_(5000, 10000]</th>\n",
       "      <th>dependent_cat_(10000, 100000]</th>\n",
       "      <th>dependent_cat_(100000, 250000]</th>\n",
       "      <th>dependent_cat_(250000, 500000]</th>\n",
       "      <th>dependent_cat_(500000, 1000000]</th>\n",
       "      <th>dependent_cat_(1000000, 4000000]</th>\n",
       "      <th>dependent_cat_(4000000, 5000000]</th>\n",
       "      <th>area_</th>\n",
       "      <th>area_Central</th>\n",
       "      <th>area_NA</th>\n",
       "      <th>area_NE</th>\n",
       "      <th>area_Other</th>\n",
       "      <th>area_SE</th>\n",
       "      <th>area_West</th>\n",
       "    </tr>\n",
       "  </thead>\n",
       "  <tbody>\n",
       "    <tr>\n",
       "      <th>0</th>\n",
       "      <td>0</td>\n",
       "      <td>1</td>\n",
       "      <td>-0.461602</td>\n",
       "      <td>-54.117151</td>\n",
       "      <td>1</td>\n",
       "      <td>0</td>\n",
       "      <td>0</td>\n",
       "      <td>0</td>\n",
       "      <td>0</td>\n",
       "      <td>0</td>\n",
       "      <td>0</td>\n",
       "      <td>0</td>\n",
       "      <td>0</td>\n",
       "      <td>0</td>\n",
       "      <td>0</td>\n",
       "      <td>1</td>\n",
       "      <td>0</td>\n",
       "      <td>0</td>\n",
       "      <td>0</td>\n",
       "    </tr>\n",
       "    <tr>\n",
       "      <th>1</th>\n",
       "      <td>0</td>\n",
       "      <td>1</td>\n",
       "      <td>-1.636553</td>\n",
       "      <td>-15.269871</td>\n",
       "      <td>1</td>\n",
       "      <td>0</td>\n",
       "      <td>0</td>\n",
       "      <td>0</td>\n",
       "      <td>0</td>\n",
       "      <td>0</td>\n",
       "      <td>0</td>\n",
       "      <td>0</td>\n",
       "      <td>0</td>\n",
       "      <td>0</td>\n",
       "      <td>0</td>\n",
       "      <td>1</td>\n",
       "      <td>0</td>\n",
       "      <td>0</td>\n",
       "      <td>0</td>\n",
       "    </tr>\n",
       "    <tr>\n",
       "      <th>2</th>\n",
       "      <td>0</td>\n",
       "      <td>1</td>\n",
       "      <td>-6.442868</td>\n",
       "      <td>-3.842300</td>\n",
       "      <td>0</td>\n",
       "      <td>0</td>\n",
       "      <td>1</td>\n",
       "      <td>0</td>\n",
       "      <td>0</td>\n",
       "      <td>0</td>\n",
       "      <td>0</td>\n",
       "      <td>0</td>\n",
       "      <td>0</td>\n",
       "      <td>0</td>\n",
       "      <td>0</td>\n",
       "      <td>1</td>\n",
       "      <td>0</td>\n",
       "      <td>0</td>\n",
       "      <td>0</td>\n",
       "    </tr>\n",
       "    <tr>\n",
       "      <th>3</th>\n",
       "      <td>0</td>\n",
       "      <td>1</td>\n",
       "      <td>-92.062571</td>\n",
       "      <td>-0.250514</td>\n",
       "      <td>0</td>\n",
       "      <td>0</td>\n",
       "      <td>1</td>\n",
       "      <td>0</td>\n",
       "      <td>0</td>\n",
       "      <td>0</td>\n",
       "      <td>0</td>\n",
       "      <td>0</td>\n",
       "      <td>0</td>\n",
       "      <td>0</td>\n",
       "      <td>0</td>\n",
       "      <td>1</td>\n",
       "      <td>0</td>\n",
       "      <td>0</td>\n",
       "      <td>0</td>\n",
       "    </tr>\n",
       "    <tr>\n",
       "      <th>4</th>\n",
       "      <td>0</td>\n",
       "      <td>1</td>\n",
       "      <td>38.206270</td>\n",
       "      <td>0.551295</td>\n",
       "      <td>0</td>\n",
       "      <td>0</td>\n",
       "      <td>1</td>\n",
       "      <td>0</td>\n",
       "      <td>0</td>\n",
       "      <td>0</td>\n",
       "      <td>0</td>\n",
       "      <td>0</td>\n",
       "      <td>0</td>\n",
       "      <td>0</td>\n",
       "      <td>0</td>\n",
       "      <td>1</td>\n",
       "      <td>0</td>\n",
       "      <td>0</td>\n",
       "      <td>0</td>\n",
       "    </tr>\n",
       "  </tbody>\n",
       "</table>\n",
       "</div>"
      ],
      "text/plain": [
       "   dependent_hi_lo  ny_yes_no  inc_liab_ratio  liab_to_credits  \\\n",
       "0                0          1       -0.461602       -54.117151   \n",
       "1                0          1       -1.636553       -15.269871   \n",
       "2                0          1       -6.442868        -3.842300   \n",
       "3                0          1      -92.062571        -0.250514   \n",
       "4                0          1       38.206270         0.551295   \n",
       "\n",
       "   dependent_cat_(0, 5000]  dependent_cat_(5000, 10000]  \\\n",
       "0                        1                            0   \n",
       "1                        1                            0   \n",
       "2                        0                            0   \n",
       "3                        0                            0   \n",
       "4                        0                            0   \n",
       "\n",
       "   dependent_cat_(10000, 100000]  dependent_cat_(100000, 250000]  \\\n",
       "0                              0                               0   \n",
       "1                              0                               0   \n",
       "2                              1                               0   \n",
       "3                              1                               0   \n",
       "4                              1                               0   \n",
       "\n",
       "   dependent_cat_(250000, 500000]  dependent_cat_(500000, 1000000]  \\\n",
       "0                               0                                0   \n",
       "1                               0                                0   \n",
       "2                               0                                0   \n",
       "3                               0                                0   \n",
       "4                               0                                0   \n",
       "\n",
       "   dependent_cat_(1000000, 4000000]  dependent_cat_(4000000, 5000000]  area_  \\\n",
       "0                                 0                                 0      0   \n",
       "1                                 0                                 0      0   \n",
       "2                                 0                                 0      0   \n",
       "3                                 0                                 0      0   \n",
       "4                                 0                                 0      0   \n",
       "\n",
       "   area_Central  area_NA  area_NE  area_Other  area_SE  area_West  \n",
       "0             0        0        1           0        0          0  \n",
       "1             0        0        1           0        0          0  \n",
       "2             0        0        1           0        0          0  \n",
       "3             0        0        1           0        0          0  \n",
       "4             0        0        1           0        0          0  "
      ]
     },
     "execution_count": 79,
     "metadata": {},
     "output_type": "execute_result"
    }
   ],
   "source": [
    "features_ = pd.get_dummies(features)\n",
    "features_.head()"
   ]
  },
  {
   "cell_type": "code",
   "execution_count": 35,
   "metadata": {},
   "outputs": [
    {
     "name": "stdout",
     "output_type": "stream",
     "text": [
      "<class 'pandas.core.frame.DataFrame'>\n",
      "RangeIndex: 23735 entries, 0 to 23734\n",
      "Data columns (total 5 columns):\n",
      "dependent_hi_lo    23735 non-null int32\n",
      "dependent_cat      21542 non-null category\n",
      "ny_yes_no          23735 non-null int32\n",
      "area               23735 non-null object\n",
      "inc_liab_ratio     23393 non-null float64\n",
      "dtypes: category(1), float64(1), int32(2), object(1)\n",
      "memory usage: 486.9+ KB\n"
     ]
    }
   ],
   "source": [
    "#missing data in columns\n",
    "#all same values in columns\n",
    "\n",
    "features.info()"
   ]
  },
  {
   "cell_type": "markdown",
   "metadata": {},
   "source": [
    "##### It seems like there is very little missing data in the features columns, so I would elect to keep these five features."
   ]
  },
  {
   "cell_type": "code",
   "execution_count": null,
   "metadata": {},
   "outputs": [],
   "source": []
  }
 ],
 "metadata": {
  "kernelspec": {
   "display_name": "Python 3",
   "language": "python",
   "name": "python3"
  },
  "language_info": {
   "codemirror_mode": {
    "name": "ipython",
    "version": 3
   },
   "file_extension": ".py",
   "mimetype": "text/x-python",
   "name": "python",
   "nbconvert_exporter": "python",
   "pygments_lexer": "ipython3",
   "version": "3.7.2"
  }
 },
 "nbformat": 4,
 "nbformat_minor": 2
}
