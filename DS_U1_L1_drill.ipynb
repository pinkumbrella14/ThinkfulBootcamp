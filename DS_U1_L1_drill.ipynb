{
 "cells": [
  {
   "cell_type": "markdown",
   "metadata": {},
   "source": [
    "## DS Bootcamp\n",
    "### Unit 1 - Data and analysis, data science for investigations\n",
    "#### Lesson 1 - What is data science?"
   ]
  },
  {
   "cell_type": "markdown",
   "metadata": {},
   "source": [
    "**DRILL 1** \n",
    "\n",
    "**Below we have a series of questions for you to translate into a technical plan. For each question, describe how you would make it testable and translate it from a general question into something statistically rigorous. Write your answers down in a shareable document and submit the link below.**"
   ]
  },
  {
   "cell_type": "markdown",
   "metadata": {},
   "source": [
    "You work at an e-commerce company that sells three goods: widgets, doodads, and fizzbangs. The head of advertising asks you which they should feature in their new advertising campaign. You have data on individual visitors' sessions (activity on a website, pageviews, and purchases), as well as whether or not those users converted from an advertisement for that session. You also have the cost and price information for the goods.\n",
    "\n",
    "*Since information about activity on the website is available, it would be worthwhile to test which items from the three the company is interested in potentially advertising is selling the most and the least and compare that with which are being viewed/visited the most and the least. Purchases of the three products could also be compared. The results of all these comparisons would then inform which to advertise. For example, if the company is interested in selling more of the least selling gadget, then those could be advertised vs if the company is interested in maintaining sales of the best or second-best selling gadget.*\n"
   ]
  },
  {
   "cell_type": "markdown",
   "metadata": {},
   "source": [
    "You work at a web design company that offers to build websites for clients. Signups have slowed, and you are tasked with finding out why. The onboarding funnel has three steps: email and password signup, plan choice, and payment. On a user level you have information on what steps they have completed as well as timestamps for all of those events for the past 3 years. You also have information on marketing spend on a weekly level.\n",
    "\n",
    "*Since data for each stage of the onboarding funnel is available for the last 3 years for users at various stage of the process, as well as marketing data, a number of things can be tested. The first thing I would test is if there is any seasonal trend associated with sign-ups. For example, sign ups may reduce following a specific month or holiday and could be tested to see if the current slow down is actually normal. I would also test the effectivenss of the marketing - for example, does marketing actually lead to more sign ups?*\n"
   ]
  },
  {
   "cell_type": "markdown",
   "metadata": {},
   "source": [
    "You work at a hotel website and currently the website ranks search results by price. For simplicity's sake, let's say it's a website for one city with 100 hotels. You are tasked with proposing a better ranking system. You have session information, price information for the hotels, and whether each hotel is currently available.\n",
    "\n",
    "*Since there is information on the sessions of the users, I would suggest a ranking based on reviews of hotels similar in profile to what each user was looking for and in the same city. The ranking would include available hotels that were reviewed by other viewers whose search or session information resembled the information of the current user and the hotels would be presented from most highly ranked to least highly ranked, regardless of the price. A more interesting presentaiton would be ranked by hotel reviews and price.*"
   ]
  },
  {
   "cell_type": "markdown",
   "metadata": {},
   "source": [
    "You work at a social network, and the management is worried about churn (users stopping using the product). You are tasked with finding out if their churn is atypical. You have three years of data for users with an entry for every time they've logged in, including the timestamp and length of session.\n",
    "\n",
    "*Since data is available for the last 3 years it would be interesting to compare the current down swing in product use to use at around the same during the last 3 years; this would make it possible to determine if the trends are 'atypical'. For example, the numbers of users over the same period during previous years can be compared to current numbers and tested to determine if the difference is statistically significant or not.*\n"
   ]
  },
  {
   "cell_type": "code",
   "execution_count": null,
   "metadata": {},
   "outputs": [],
   "source": []
  }
 ],
 "metadata": {
  "kernelspec": {
   "display_name": "Python 3",
   "language": "python",
   "name": "python3"
  },
  "language_info": {
   "codemirror_mode": {
    "name": "ipython",
    "version": 3
   },
   "file_extension": ".py",
   "mimetype": "text/x-python",
   "name": "python",
   "nbconvert_exporter": "python",
   "pygments_lexer": "ipython3",
   "version": "3.7.1"
  }
 },
 "nbformat": 4,
 "nbformat_minor": 2
}
