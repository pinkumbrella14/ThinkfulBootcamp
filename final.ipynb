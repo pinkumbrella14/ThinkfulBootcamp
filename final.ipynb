{
 "cells": [
  {
   "cell_type": "code",
   "execution_count": 2,
   "metadata": {},
   "outputs": [],
   "source": [
    "import pandas as pd\n",
    "import numpy as np\n",
    "#import cufflinks as cf\n",
    "import matplotlib.pyplot as plt\n",
    "%matplotlib inline"
   ]
  },
  {
   "cell_type": "markdown",
   "metadata": {},
   "source": [
    "I looked at the oil pipeline accidents data, which seemed more interesting and more suited for the task."
   ]
  },
  {
   "cell_type": "markdown",
   "metadata": {},
   "source": [
    "## Description of the data set\n",
    "This data set is a record of oil pipeline accidents that occurred between 2010 and 2017. It records injuries and fatalities, the causes of the accidents, and also the costs associated with pipeline leaks and spills.\n",
    "\n",
    "The dataset is owned by and maintained by the Department of Transportation's Pipeline and Hazardours Materials Safety Administration and was last updated in 2017, which means accidents occuring after that date are not included.\n",
    "\n",
    "This is an increadibly interesting set of data since it provides a glimpse into some of the hazards surrounding the maintenance of the pipeline."
   ]
  },
  {
   "cell_type": "markdown",
   "metadata": {},
   "source": [
    "## First pass through the data - summary statistics and first look at the variables"
   ]
  },
  {
   "cell_type": "markdown",
   "metadata": {},
   "source": [
    "The years indicated in the data description do appear in the data set."
   ]
  },
  {
   "cell_type": "code",
   "execution_count": 3,
   "metadata": {},
   "outputs": [],
   "source": [
    "pipeline = pd.read_csv('oil_pipeline_accidents.csv')"
   ]
  },
  {
   "cell_type": "code",
   "execution_count": 4,
   "metadata": {},
   "outputs": [
    {
     "data": {
      "text/plain": [
       "array([2010, 2011, 2012, 2013, 2014, 2015, 2016, 2017], dtype=int64)"
      ]
     },
     "execution_count": 4,
     "metadata": {},
     "output_type": "execute_result"
    }
   ],
   "source": [
    "#confirm that there is data for all of the years indicated.\n",
    "pipeline['Accident Year'].unique()"
   ]
  },
  {
   "cell_type": "markdown",
   "metadata": {},
   "source": [
    "### An initial quick look at the data:"
   ]
  },
  {
   "cell_type": "code",
   "execution_count": 5,
   "metadata": {},
   "outputs": [
    {
     "data": {
      "text/html": [
       "<div>\n",
       "<style scoped>\n",
       "    .dataframe tbody tr th:only-of-type {\n",
       "        vertical-align: middle;\n",
       "    }\n",
       "\n",
       "    .dataframe tbody tr th {\n",
       "        vertical-align: top;\n",
       "    }\n",
       "\n",
       "    .dataframe thead th {\n",
       "        text-align: right;\n",
       "    }\n",
       "</style>\n",
       "<table border=\"1\" class=\"dataframe\">\n",
       "  <thead>\n",
       "    <tr style=\"text-align: right;\">\n",
       "      <th></th>\n",
       "      <th>Report Number</th>\n",
       "      <th>Supplemental Number</th>\n",
       "      <th>Accident Year</th>\n",
       "      <th>Accident Date/Time</th>\n",
       "      <th>Operator ID</th>\n",
       "      <th>Operator Name</th>\n",
       "      <th>Pipeline/Facility Name</th>\n",
       "      <th>Pipeline Location</th>\n",
       "      <th>Pipeline Type</th>\n",
       "      <th>Liquid Type</th>\n",
       "      <th>...</th>\n",
       "      <th>Other Fatalities</th>\n",
       "      <th>Public Fatalities</th>\n",
       "      <th>All Fatalities</th>\n",
       "      <th>Property Damage Costs</th>\n",
       "      <th>Lost Commodity Costs</th>\n",
       "      <th>Public/Private Property Damage Costs</th>\n",
       "      <th>Emergency Response Costs</th>\n",
       "      <th>Environmental Remediation Costs</th>\n",
       "      <th>Other Costs</th>\n",
       "      <th>All Costs</th>\n",
       "    </tr>\n",
       "  </thead>\n",
       "  <tbody>\n",
       "    <tr>\n",
       "      <th>0</th>\n",
       "      <td>20100016</td>\n",
       "      <td>17305</td>\n",
       "      <td>2010</td>\n",
       "      <td>1/1/2010 7:15 AM</td>\n",
       "      <td>32109</td>\n",
       "      <td>ONEOK NGL PIPELINE LP</td>\n",
       "      <td>KINDER MORGAN JCT</td>\n",
       "      <td>ONSHORE</td>\n",
       "      <td>ABOVEGROUND</td>\n",
       "      <td>HVL OR OTHER FLAMMABLE OR TOXIC FLUID, GAS</td>\n",
       "      <td>...</td>\n",
       "      <td>NaN</td>\n",
       "      <td>NaN</td>\n",
       "      <td>NaN</td>\n",
       "      <td>110.0</td>\n",
       "      <td>1517.0</td>\n",
       "      <td>0.0</td>\n",
       "      <td>0.0</td>\n",
       "      <td>0.0</td>\n",
       "      <td>0.0</td>\n",
       "      <td>1627</td>\n",
       "    </tr>\n",
       "    <tr>\n",
       "      <th>1</th>\n",
       "      <td>20100254</td>\n",
       "      <td>17331</td>\n",
       "      <td>2010</td>\n",
       "      <td>1/4/2010 8:30 AM</td>\n",
       "      <td>15786</td>\n",
       "      <td>PORTLAND PIPELINE CORP</td>\n",
       "      <td>24-INCH MAIN LINE</td>\n",
       "      <td>ONSHORE</td>\n",
       "      <td>ABOVEGROUND</td>\n",
       "      <td>CRUDE OIL</td>\n",
       "      <td>...</td>\n",
       "      <td>NaN</td>\n",
       "      <td>NaN</td>\n",
       "      <td>NaN</td>\n",
       "      <td>4000.0</td>\n",
       "      <td>8.0</td>\n",
       "      <td>0.0</td>\n",
       "      <td>0.0</td>\n",
       "      <td>0.0</td>\n",
       "      <td>0.0</td>\n",
       "      <td>4008</td>\n",
       "    </tr>\n",
       "    <tr>\n",
       "      <th>2</th>\n",
       "      <td>20100038</td>\n",
       "      <td>17747</td>\n",
       "      <td>2010</td>\n",
       "      <td>1/5/2010 10:30 AM</td>\n",
       "      <td>20160</td>\n",
       "      <td>PETROLOGISTICS OLEFINS, LLC</td>\n",
       "      <td>NaN</td>\n",
       "      <td>ONSHORE</td>\n",
       "      <td>ABOVEGROUND</td>\n",
       "      <td>HVL OR OTHER FLAMMABLE OR TOXIC FLUID, GAS</td>\n",
       "      <td>...</td>\n",
       "      <td>NaN</td>\n",
       "      <td>NaN</td>\n",
       "      <td>NaN</td>\n",
       "      <td>0.0</td>\n",
       "      <td>200.0</td>\n",
       "      <td>0.0</td>\n",
       "      <td>0.0</td>\n",
       "      <td>0.0</td>\n",
       "      <td>0.0</td>\n",
       "      <td>200</td>\n",
       "    </tr>\n",
       "    <tr>\n",
       "      <th>3</th>\n",
       "      <td>20100260</td>\n",
       "      <td>18574</td>\n",
       "      <td>2010</td>\n",
       "      <td>1/6/2010 7:30 PM</td>\n",
       "      <td>11169</td>\n",
       "      <td>ENBRIDGE ENERGY, LIMITED PARTNERSHIP</td>\n",
       "      <td>SUPERIOR TERMINAL</td>\n",
       "      <td>ONSHORE</td>\n",
       "      <td>UNDERGROUND</td>\n",
       "      <td>CRUDE OIL</td>\n",
       "      <td>...</td>\n",
       "      <td>NaN</td>\n",
       "      <td>NaN</td>\n",
       "      <td>NaN</td>\n",
       "      <td>200.0</td>\n",
       "      <td>40.0</td>\n",
       "      <td>0.0</td>\n",
       "      <td>11300.0</td>\n",
       "      <td>0.0</td>\n",
       "      <td>0.0</td>\n",
       "      <td>11540</td>\n",
       "    </tr>\n",
       "    <tr>\n",
       "      <th>4</th>\n",
       "      <td>20100030</td>\n",
       "      <td>16276</td>\n",
       "      <td>2010</td>\n",
       "      <td>1/7/2010 1:00 PM</td>\n",
       "      <td>300</td>\n",
       "      <td>PLAINS PIPELINE, L.P.</td>\n",
       "      <td>RED RIVER EAST</td>\n",
       "      <td>ONSHORE</td>\n",
       "      <td>UNDERGROUND</td>\n",
       "      <td>CRUDE OIL</td>\n",
       "      <td>...</td>\n",
       "      <td>NaN</td>\n",
       "      <td>NaN</td>\n",
       "      <td>NaN</td>\n",
       "      <td>20000.0</td>\n",
       "      <td>150.0</td>\n",
       "      <td>0.0</td>\n",
       "      <td>7500.0</td>\n",
       "      <td>2000.0</td>\n",
       "      <td>0.0</td>\n",
       "      <td>29650</td>\n",
       "    </tr>\n",
       "  </tbody>\n",
       "</table>\n",
       "<p>5 rows × 48 columns</p>\n",
       "</div>"
      ],
      "text/plain": [
       "   Report Number  Supplemental Number  Accident Year Accident Date/Time  \\\n",
       "0       20100016                17305           2010   1/1/2010 7:15 AM   \n",
       "1       20100254                17331           2010   1/4/2010 8:30 AM   \n",
       "2       20100038                17747           2010  1/5/2010 10:30 AM   \n",
       "3       20100260                18574           2010   1/6/2010 7:30 PM   \n",
       "4       20100030                16276           2010   1/7/2010 1:00 PM   \n",
       "\n",
       "   Operator ID                         Operator Name Pipeline/Facility Name  \\\n",
       "0        32109                 ONEOK NGL PIPELINE LP      KINDER MORGAN JCT   \n",
       "1        15786                PORTLAND PIPELINE CORP      24-INCH MAIN LINE   \n",
       "2        20160           PETROLOGISTICS OLEFINS, LLC                    NaN   \n",
       "3        11169  ENBRIDGE ENERGY, LIMITED PARTNERSHIP      SUPERIOR TERMINAL   \n",
       "4          300                 PLAINS PIPELINE, L.P.         RED RIVER EAST   \n",
       "\n",
       "  Pipeline Location Pipeline Type                                 Liquid Type  \\\n",
       "0           ONSHORE   ABOVEGROUND  HVL OR OTHER FLAMMABLE OR TOXIC FLUID, GAS   \n",
       "1           ONSHORE   ABOVEGROUND                                   CRUDE OIL   \n",
       "2           ONSHORE   ABOVEGROUND  HVL OR OTHER FLAMMABLE OR TOXIC FLUID, GAS   \n",
       "3           ONSHORE   UNDERGROUND                                   CRUDE OIL   \n",
       "4           ONSHORE   UNDERGROUND                                   CRUDE OIL   \n",
       "\n",
       "   ... Other Fatalities Public Fatalities All Fatalities  \\\n",
       "0  ...              NaN               NaN            NaN   \n",
       "1  ...              NaN               NaN            NaN   \n",
       "2  ...              NaN               NaN            NaN   \n",
       "3  ...              NaN               NaN            NaN   \n",
       "4  ...              NaN               NaN            NaN   \n",
       "\n",
       "  Property Damage Costs Lost Commodity Costs  \\\n",
       "0                 110.0               1517.0   \n",
       "1                4000.0                  8.0   \n",
       "2                   0.0                200.0   \n",
       "3                 200.0                 40.0   \n",
       "4               20000.0                150.0   \n",
       "\n",
       "   Public/Private Property Damage Costs  Emergency Response Costs  \\\n",
       "0                                   0.0                       0.0   \n",
       "1                                   0.0                       0.0   \n",
       "2                                   0.0                       0.0   \n",
       "3                                   0.0                   11300.0   \n",
       "4                                   0.0                    7500.0   \n",
       "\n",
       "  Environmental Remediation Costs Other Costs  All Costs  \n",
       "0                             0.0         0.0       1627  \n",
       "1                             0.0         0.0       4008  \n",
       "2                             0.0         0.0        200  \n",
       "3                             0.0         0.0      11540  \n",
       "4                          2000.0         0.0      29650  \n",
       "\n",
       "[5 rows x 48 columns]"
      ]
     },
     "execution_count": 5,
     "metadata": {},
     "output_type": "execute_result"
    }
   ],
   "source": [
    "pipeline.head()\n",
    "#.unstack()"
   ]
  },
  {
   "cell_type": "markdown",
   "metadata": {},
   "source": [
    "The data set includes 48 columns or variables and has some missing data, indicated by the presence of NaN values in the data set. It also seems like each accident is associated with a report number, so there is potential to get details for specific accidents that may not be present in this data set, if the reports can be requested.\n",
    "\n",
    "It's interesting that the fatalities are broken down into categories that include public and 'other' fatalities and it may be interesting to compare these categories to see who is effected more during a pipeline accident. The costs are also broken down really well and include damages to property (the pipeline), damage to public/private property, costs of the emergency response, costs for environmental remediation, and also additional, uncategorized costs.\n",
    "\n",
    "This data set appears really robust and has enough information in it to ask some intereting and insightful questions."
   ]
  },
  {
   "cell_type": "markdown",
   "metadata": {},
   "source": [
    "### Examining dimensions of the data and looking at some summary statistics:"
   ]
  },
  {
   "cell_type": "code",
   "execution_count": 6,
   "metadata": {},
   "outputs": [
    {
     "data": {
      "text/plain": [
       "(2795, 48)"
      ]
     },
     "execution_count": 6,
     "metadata": {},
     "output_type": "execute_result"
    }
   ],
   "source": [
    "pipeline.shape"
   ]
  },
  {
   "cell_type": "markdown",
   "metadata": {},
   "source": [
    "This data set has 48 variables and 2,795 observations, which means that there were 2,795 accidents that occurred on the pipeline between 2010 and 2017."
   ]
  },
  {
   "cell_type": "code",
   "execution_count": 7,
   "metadata": {},
   "outputs": [
    {
     "data": {
      "text/html": [
       "<div>\n",
       "<style scoped>\n",
       "    .dataframe tbody tr th:only-of-type {\n",
       "        vertical-align: middle;\n",
       "    }\n",
       "\n",
       "    .dataframe tbody tr th {\n",
       "        vertical-align: top;\n",
       "    }\n",
       "\n",
       "    .dataframe thead th {\n",
       "        text-align: right;\n",
       "    }\n",
       "</style>\n",
       "<table border=\"1\" class=\"dataframe\">\n",
       "  <thead>\n",
       "    <tr style=\"text-align: right;\">\n",
       "      <th></th>\n",
       "      <th>Accident Date/Time</th>\n",
       "      <th>Operator Name</th>\n",
       "      <th>Pipeline/Facility Name</th>\n",
       "      <th>Pipeline Location</th>\n",
       "      <th>Pipeline Type</th>\n",
       "      <th>Liquid Type</th>\n",
       "      <th>Liquid Subtype</th>\n",
       "      <th>Liquid Name</th>\n",
       "      <th>Accident City</th>\n",
       "      <th>Accident County</th>\n",
       "      <th>Accident State</th>\n",
       "      <th>Cause Category</th>\n",
       "      <th>Cause Subcategory</th>\n",
       "      <th>Liquid Ignition</th>\n",
       "      <th>Liquid Explosion</th>\n",
       "      <th>Pipeline Shutdown</th>\n",
       "      <th>Shutdown Date/Time</th>\n",
       "      <th>Restart Date/Time</th>\n",
       "    </tr>\n",
       "  </thead>\n",
       "  <tbody>\n",
       "    <tr>\n",
       "      <th>count</th>\n",
       "      <td>2795</td>\n",
       "      <td>2795</td>\n",
       "      <td>2674</td>\n",
       "      <td>2795</td>\n",
       "      <td>2777</td>\n",
       "      <td>2795</td>\n",
       "      <td>1349</td>\n",
       "      <td>222</td>\n",
       "      <td>2480</td>\n",
       "      <td>2720</td>\n",
       "      <td>2783</td>\n",
       "      <td>2795</td>\n",
       "      <td>2795</td>\n",
       "      <td>2795</td>\n",
       "      <td>2795</td>\n",
       "      <td>2583</td>\n",
       "      <td>1390</td>\n",
       "      <td>1341</td>\n",
       "    </tr>\n",
       "    <tr>\n",
       "      <th>unique</th>\n",
       "      <td>2777</td>\n",
       "      <td>229</td>\n",
       "      <td>1977</td>\n",
       "      <td>2</td>\n",
       "      <td>4</td>\n",
       "      <td>5</td>\n",
       "      <td>8</td>\n",
       "      <td>69</td>\n",
       "      <td>1027</td>\n",
       "      <td>678</td>\n",
       "      <td>46</td>\n",
       "      <td>7</td>\n",
       "      <td>38</td>\n",
       "      <td>2</td>\n",
       "      <td>2</td>\n",
       "      <td>2</td>\n",
       "      <td>1385</td>\n",
       "      <td>1334</td>\n",
       "    </tr>\n",
       "    <tr>\n",
       "      <th>top</th>\n",
       "      <td>12/28/2013 9:30 AM</td>\n",
       "      <td>ENTERPRISE CRUDE PIPELINE LLC</td>\n",
       "      <td>WYOMING PIPELINE COMPANY</td>\n",
       "      <td>ONSHORE</td>\n",
       "      <td>ABOVEGROUND</td>\n",
       "      <td>CRUDE OIL</td>\n",
       "      <td>DIESEL, FUEL OIL, KEROSENE, JET FUEL</td>\n",
       "      <td>PROPANE</td>\n",
       "      <td>CUSHING</td>\n",
       "      <td>HARRIS</td>\n",
       "      <td>TX</td>\n",
       "      <td>MATERIAL/WELD/EQUIP FAILURE</td>\n",
       "      <td>INTERNAL</td>\n",
       "      <td>NO</td>\n",
       "      <td>NO</td>\n",
       "      <td>YES</td>\n",
       "      <td>9/27/2013 11:30</td>\n",
       "      <td>12/12/2011 14:40</td>\n",
       "    </tr>\n",
       "    <tr>\n",
       "      <th>freq</th>\n",
       "      <td>2</td>\n",
       "      <td>195</td>\n",
       "      <td>20</td>\n",
       "      <td>2777</td>\n",
       "      <td>1475</td>\n",
       "      <td>1398</td>\n",
       "      <td>408</td>\n",
       "      <td>26</td>\n",
       "      <td>78</td>\n",
       "      <td>167</td>\n",
       "      <td>1004</td>\n",
       "      <td>1435</td>\n",
       "      <td>362</td>\n",
       "      <td>2700</td>\n",
       "      <td>2780</td>\n",
       "      <td>1395</td>\n",
       "      <td>2</td>\n",
       "      <td>2</td>\n",
       "    </tr>\n",
       "  </tbody>\n",
       "</table>\n",
       "</div>"
      ],
      "text/plain": [
       "        Accident Date/Time                  Operator Name  \\\n",
       "count                 2795                           2795   \n",
       "unique                2777                            229   \n",
       "top     12/28/2013 9:30 AM  ENTERPRISE CRUDE PIPELINE LLC   \n",
       "freq                     2                            195   \n",
       "\n",
       "          Pipeline/Facility Name Pipeline Location Pipeline Type Liquid Type  \\\n",
       "count                       2674              2795          2777        2795   \n",
       "unique                      1977                 2             4           5   \n",
       "top     WYOMING PIPELINE COMPANY           ONSHORE   ABOVEGROUND   CRUDE OIL   \n",
       "freq                          20              2777          1475        1398   \n",
       "\n",
       "                              Liquid Subtype Liquid Name Accident City  \\\n",
       "count                                   1349         222          2480   \n",
       "unique                                     8          69          1027   \n",
       "top     DIESEL, FUEL OIL, KEROSENE, JET FUEL     PROPANE       CUSHING   \n",
       "freq                                     408          26            78   \n",
       "\n",
       "       Accident County Accident State               Cause Category  \\\n",
       "count             2720           2783                         2795   \n",
       "unique             678             46                            7   \n",
       "top             HARRIS             TX  MATERIAL/WELD/EQUIP FAILURE   \n",
       "freq               167           1004                         1435   \n",
       "\n",
       "       Cause Subcategory Liquid Ignition Liquid Explosion Pipeline Shutdown  \\\n",
       "count               2795            2795             2795              2583   \n",
       "unique                38               2                2                 2   \n",
       "top             INTERNAL              NO               NO               YES   \n",
       "freq                 362            2700             2780              1395   \n",
       "\n",
       "       Shutdown Date/Time Restart Date/Time  \n",
       "count                1390              1341  \n",
       "unique               1385              1334  \n",
       "top       9/27/2013 11:30  12/12/2011 14:40  \n",
       "freq                    2                 2  "
      ]
     },
     "execution_count": 7,
     "metadata": {},
     "output_type": "execute_result"
    }
   ],
   "source": [
    "pipeline.describe(include = 'object')"
   ]
  },
  {
   "cell_type": "code",
   "execution_count": 8,
   "metadata": {},
   "outputs": [
    {
     "data": {
      "text/html": [
       "<div>\n",
       "<style scoped>\n",
       "    .dataframe tbody tr th:only-of-type {\n",
       "        vertical-align: middle;\n",
       "    }\n",
       "\n",
       "    .dataframe tbody tr th {\n",
       "        vertical-align: top;\n",
       "    }\n",
       "\n",
       "    .dataframe thead th {\n",
       "        text-align: right;\n",
       "    }\n",
       "</style>\n",
       "<table border=\"1\" class=\"dataframe\">\n",
       "  <thead>\n",
       "    <tr style=\"text-align: right;\">\n",
       "      <th></th>\n",
       "      <th>Report Number</th>\n",
       "      <th>Supplemental Number</th>\n",
       "      <th>Accident Year</th>\n",
       "      <th>Operator ID</th>\n",
       "      <th>Accident Latitude</th>\n",
       "      <th>Accident Longitude</th>\n",
       "      <th>Unintentional Release (Barrels)</th>\n",
       "      <th>Intentional Release (Barrels)</th>\n",
       "      <th>Liquid Recovery (Barrels)</th>\n",
       "      <th>Net Loss (Barrels)</th>\n",
       "      <th>...</th>\n",
       "      <th>Other Fatalities</th>\n",
       "      <th>Public Fatalities</th>\n",
       "      <th>All Fatalities</th>\n",
       "      <th>Property Damage Costs</th>\n",
       "      <th>Lost Commodity Costs</th>\n",
       "      <th>Public/Private Property Damage Costs</th>\n",
       "      <th>Emergency Response Costs</th>\n",
       "      <th>Environmental Remediation Costs</th>\n",
       "      <th>Other Costs</th>\n",
       "      <th>All Costs</th>\n",
       "    </tr>\n",
       "  </thead>\n",
       "  <tbody>\n",
       "    <tr>\n",
       "      <th>count</th>\n",
       "      <td>2.795000e+03</td>\n",
       "      <td>2795.000000</td>\n",
       "      <td>2795.000000</td>\n",
       "      <td>2795.000000</td>\n",
       "      <td>2795.000000</td>\n",
       "      <td>2795.000000</td>\n",
       "      <td>2795.000000</td>\n",
       "      <td>1209.000000</td>\n",
       "      <td>2795.000000</td>\n",
       "      <td>2795.000000</td>\n",
       "      <td>...</td>\n",
       "      <td>8.000000</td>\n",
       "      <td>8.000000</td>\n",
       "      <td>8.00000</td>\n",
       "      <td>2.788000e+03</td>\n",
       "      <td>2.791000e+03</td>\n",
       "      <td>2.785000e+03</td>\n",
       "      <td>2.789000e+03</td>\n",
       "      <td>2.787000e+03</td>\n",
       "      <td>2.779000e+03</td>\n",
       "      <td>2.795000e+03</td>\n",
       "    </tr>\n",
       "    <tr>\n",
       "      <th>mean</th>\n",
       "      <td>2.013293e+07</td>\n",
       "      <td>19433.319499</td>\n",
       "      <td>2013.187835</td>\n",
       "      <td>21388.476565</td>\n",
       "      <td>35.781608</td>\n",
       "      <td>-95.682691</td>\n",
       "      <td>207.245843</td>\n",
       "      <td>238.533623</td>\n",
       "      <td>75.051792</td>\n",
       "      <td>132.194050</td>\n",
       "      <td>...</td>\n",
       "      <td>0.125000</td>\n",
       "      <td>0.625000</td>\n",
       "      <td>1.25000</td>\n",
       "      <td>1.122963e+05</td>\n",
       "      <td>9.805299e+03</td>\n",
       "      <td>2.512195e+04</td>\n",
       "      <td>2.918911e+05</td>\n",
       "      <td>3.628094e+05</td>\n",
       "      <td>3.435604e+04</td>\n",
       "      <td>8.340332e+05</td>\n",
       "    </tr>\n",
       "    <tr>\n",
       "      <th>std</th>\n",
       "      <td>1.982098e+04</td>\n",
       "      <td>1724.815370</td>\n",
       "      <td>1.972102</td>\n",
       "      <td>12430.973428</td>\n",
       "      <td>5.652599</td>\n",
       "      <td>12.328430</td>\n",
       "      <td>1368.667813</td>\n",
       "      <td>2781.771453</td>\n",
       "      <td>546.188247</td>\n",
       "      <td>1185.019252</td>\n",
       "      <td>...</td>\n",
       "      <td>0.353553</td>\n",
       "      <td>0.744024</td>\n",
       "      <td>0.46291</td>\n",
       "      <td>8.709947e+05</td>\n",
       "      <td>6.384075e+04</td>\n",
       "      <td>5.243581e+05</td>\n",
       "      <td>4.617076e+06</td>\n",
       "      <td>1.206887e+07</td>\n",
       "      <td>6.191235e+05</td>\n",
       "      <td>1.657830e+07</td>\n",
       "    </tr>\n",
       "    <tr>\n",
       "      <th>min</th>\n",
       "      <td>2.010000e+07</td>\n",
       "      <td>15072.000000</td>\n",
       "      <td>2010.000000</td>\n",
       "      <td>300.000000</td>\n",
       "      <td>18.448010</td>\n",
       "      <td>-158.099930</td>\n",
       "      <td>0.000000</td>\n",
       "      <td>0.000000</td>\n",
       "      <td>0.000000</td>\n",
       "      <td>0.000000</td>\n",
       "      <td>...</td>\n",
       "      <td>0.000000</td>\n",
       "      <td>0.000000</td>\n",
       "      <td>1.00000</td>\n",
       "      <td>0.000000e+00</td>\n",
       "      <td>0.000000e+00</td>\n",
       "      <td>0.000000e+00</td>\n",
       "      <td>0.000000e+00</td>\n",
       "      <td>0.000000e+00</td>\n",
       "      <td>0.000000e+00</td>\n",
       "      <td>0.000000e+00</td>\n",
       "    </tr>\n",
       "    <tr>\n",
       "      <th>25%</th>\n",
       "      <td>2.012004e+07</td>\n",
       "      <td>17978.500000</td>\n",
       "      <td>2012.000000</td>\n",
       "      <td>11169.000000</td>\n",
       "      <td>30.909375</td>\n",
       "      <td>-100.587636</td>\n",
       "      <td>0.480000</td>\n",
       "      <td>0.000000</td>\n",
       "      <td>0.000000</td>\n",
       "      <td>0.000000</td>\n",
       "      <td>...</td>\n",
       "      <td>0.000000</td>\n",
       "      <td>0.000000</td>\n",
       "      <td>1.00000</td>\n",
       "      <td>1.000000e+02</td>\n",
       "      <td>2.000000e+01</td>\n",
       "      <td>0.000000e+00</td>\n",
       "      <td>0.000000e+00</td>\n",
       "      <td>0.000000e+00</td>\n",
       "      <td>0.000000e+00</td>\n",
       "      <td>5.039500e+03</td>\n",
       "    </tr>\n",
       "    <tr>\n",
       "      <th>50%</th>\n",
       "      <td>2.013037e+07</td>\n",
       "      <td>19502.000000</td>\n",
       "      <td>2013.000000</td>\n",
       "      <td>26041.000000</td>\n",
       "      <td>34.925440</td>\n",
       "      <td>-95.488870</td>\n",
       "      <td>2.000000</td>\n",
       "      <td>0.000000</td>\n",
       "      <td>0.740000</td>\n",
       "      <td>0.000000</td>\n",
       "      <td>...</td>\n",
       "      <td>0.000000</td>\n",
       "      <td>0.500000</td>\n",
       "      <td>1.00000</td>\n",
       "      <td>3.000000e+03</td>\n",
       "      <td>1.000000e+02</td>\n",
       "      <td>0.000000e+00</td>\n",
       "      <td>2.520000e+03</td>\n",
       "      <td>8.000000e+02</td>\n",
       "      <td>0.000000e+00</td>\n",
       "      <td>2.312900e+04</td>\n",
       "    </tr>\n",
       "    <tr>\n",
       "      <th>75%</th>\n",
       "      <td>2.015023e+07</td>\n",
       "      <td>20996.500000</td>\n",
       "      <td>2015.000000</td>\n",
       "      <td>31618.000000</td>\n",
       "      <td>40.264062</td>\n",
       "      <td>-91.089463</td>\n",
       "      <td>20.000000</td>\n",
       "      <td>0.000000</td>\n",
       "      <td>8.000000</td>\n",
       "      <td>2.000000</td>\n",
       "      <td>...</td>\n",
       "      <td>0.000000</td>\n",
       "      <td>1.000000</td>\n",
       "      <td>1.25000</td>\n",
       "      <td>2.500000e+04</td>\n",
       "      <td>7.000000e+02</td>\n",
       "      <td>0.000000e+00</td>\n",
       "      <td>1.550000e+04</td>\n",
       "      <td>1.500000e+04</td>\n",
       "      <td>0.000000e+00</td>\n",
       "      <td>1.172325e+05</td>\n",
       "    </tr>\n",
       "    <tr>\n",
       "      <th>max</th>\n",
       "      <td>2.017003e+07</td>\n",
       "      <td>22049.000000</td>\n",
       "      <td>2017.000000</td>\n",
       "      <td>99043.000000</td>\n",
       "      <td>70.261265</td>\n",
       "      <td>104.263399</td>\n",
       "      <td>30565.000000</td>\n",
       "      <td>70191.000000</td>\n",
       "      <td>18245.000000</td>\n",
       "      <td>30565.000000</td>\n",
       "      <td>...</td>\n",
       "      <td>1.000000</td>\n",
       "      <td>2.000000</td>\n",
       "      <td>2.00000</td>\n",
       "      <td>2.700000e+07</td>\n",
       "      <td>1.417839e+06</td>\n",
       "      <td>2.300000e+07</td>\n",
       "      <td>1.770000e+08</td>\n",
       "      <td>6.350000e+08</td>\n",
       "      <td>2.235000e+07</td>\n",
       "      <td>8.405261e+08</td>\n",
       "    </tr>\n",
       "  </tbody>\n",
       "</table>\n",
       "<p>8 rows × 30 columns</p>\n",
       "</div>"
      ],
      "text/plain": [
       "       Report Number  Supplemental Number  Accident Year   Operator ID  \\\n",
       "count   2.795000e+03          2795.000000    2795.000000   2795.000000   \n",
       "mean    2.013293e+07         19433.319499    2013.187835  21388.476565   \n",
       "std     1.982098e+04          1724.815370       1.972102  12430.973428   \n",
       "min     2.010000e+07         15072.000000    2010.000000    300.000000   \n",
       "25%     2.012004e+07         17978.500000    2012.000000  11169.000000   \n",
       "50%     2.013037e+07         19502.000000    2013.000000  26041.000000   \n",
       "75%     2.015023e+07         20996.500000    2015.000000  31618.000000   \n",
       "max     2.017003e+07         22049.000000    2017.000000  99043.000000   \n",
       "\n",
       "       Accident Latitude  Accident Longitude  Unintentional Release (Barrels)  \\\n",
       "count        2795.000000         2795.000000                      2795.000000   \n",
       "mean           35.781608          -95.682691                       207.245843   \n",
       "std             5.652599           12.328430                      1368.667813   \n",
       "min            18.448010         -158.099930                         0.000000   \n",
       "25%            30.909375         -100.587636                         0.480000   \n",
       "50%            34.925440          -95.488870                         2.000000   \n",
       "75%            40.264062          -91.089463                        20.000000   \n",
       "max            70.261265          104.263399                     30565.000000   \n",
       "\n",
       "       Intentional Release (Barrels)  Liquid Recovery (Barrels)  \\\n",
       "count                    1209.000000                2795.000000   \n",
       "mean                      238.533623                  75.051792   \n",
       "std                      2781.771453                 546.188247   \n",
       "min                         0.000000                   0.000000   \n",
       "25%                         0.000000                   0.000000   \n",
       "50%                         0.000000                   0.740000   \n",
       "75%                         0.000000                   8.000000   \n",
       "max                     70191.000000               18245.000000   \n",
       "\n",
       "       Net Loss (Barrels)  ...  Other Fatalities  Public Fatalities  \\\n",
       "count         2795.000000  ...          8.000000           8.000000   \n",
       "mean           132.194050  ...          0.125000           0.625000   \n",
       "std           1185.019252  ...          0.353553           0.744024   \n",
       "min              0.000000  ...          0.000000           0.000000   \n",
       "25%              0.000000  ...          0.000000           0.000000   \n",
       "50%              0.000000  ...          0.000000           0.500000   \n",
       "75%              2.000000  ...          0.000000           1.000000   \n",
       "max          30565.000000  ...          1.000000           2.000000   \n",
       "\n",
       "       All Fatalities  Property Damage Costs  Lost Commodity Costs  \\\n",
       "count         8.00000           2.788000e+03          2.791000e+03   \n",
       "mean          1.25000           1.122963e+05          9.805299e+03   \n",
       "std           0.46291           8.709947e+05          6.384075e+04   \n",
       "min           1.00000           0.000000e+00          0.000000e+00   \n",
       "25%           1.00000           1.000000e+02          2.000000e+01   \n",
       "50%           1.00000           3.000000e+03          1.000000e+02   \n",
       "75%           1.25000           2.500000e+04          7.000000e+02   \n",
       "max           2.00000           2.700000e+07          1.417839e+06   \n",
       "\n",
       "       Public/Private Property Damage Costs  Emergency Response Costs  \\\n",
       "count                          2.785000e+03              2.789000e+03   \n",
       "mean                           2.512195e+04              2.918911e+05   \n",
       "std                            5.243581e+05              4.617076e+06   \n",
       "min                            0.000000e+00              0.000000e+00   \n",
       "25%                            0.000000e+00              0.000000e+00   \n",
       "50%                            0.000000e+00              2.520000e+03   \n",
       "75%                            0.000000e+00              1.550000e+04   \n",
       "max                            2.300000e+07              1.770000e+08   \n",
       "\n",
       "       Environmental Remediation Costs   Other Costs     All Costs  \n",
       "count                     2.787000e+03  2.779000e+03  2.795000e+03  \n",
       "mean                      3.628094e+05  3.435604e+04  8.340332e+05  \n",
       "std                       1.206887e+07  6.191235e+05  1.657830e+07  \n",
       "min                       0.000000e+00  0.000000e+00  0.000000e+00  \n",
       "25%                       0.000000e+00  0.000000e+00  5.039500e+03  \n",
       "50%                       8.000000e+02  0.000000e+00  2.312900e+04  \n",
       "75%                       1.500000e+04  0.000000e+00  1.172325e+05  \n",
       "max                       6.350000e+08  2.235000e+07  8.405261e+08  \n",
       "\n",
       "[8 rows x 30 columns]"
      ]
     },
     "execution_count": 8,
     "metadata": {},
     "output_type": "execute_result"
    }
   ],
   "source": [
    "pipeline.describe()"
   ]
  },
  {
   "cell_type": "markdown",
   "metadata": {},
   "source": [
    "This initial general summary of the variables in the data set is starting to reveal a few interesting things. First, it seems like there is a large range of the volumen (in barrels) of the liquid released (both intentional and unintentional release) and the range of the volume of the liquid recovered is much narrower. This suggests that there is still a lot of room to improve in the recovery methods.\n",
    "\n",
    "The number of fatalities is fairly low, considering that the period spans eight years, which suggests that these accidents do not have a large impact on the number of human lives lost. Unfortunately, this data set does not quantify the impact to wild life (both in the number of animals killed or the extent of the impact to the animal habitats). The impact on wild life from these accidents would be a really intersting additional component to add to the analytics of this data set!\n",
    "\n",
    "It is also noteworthy to mention that the actual costs associated with the accidents are wildly different. The range is from a few thousand to millions and it would be worthwhile to examine the factors that may drive up the costs associated with the accident."
   ]
  },
  {
   "cell_type": "code",
   "execution_count": 10,
   "metadata": {},
   "outputs": [
    {
     "data": {
      "text/plain": [
       "Accident Year\n",
       "2010    350\n",
       "2011    345\n",
       "2012    366\n",
       "2013    401\n",
       "2014    454\n",
       "2015    462\n",
       "2016    415\n",
       "2017      2\n",
       "dtype: int64"
      ]
     },
     "execution_count": 10,
     "metadata": {},
     "output_type": "execute_result"
    }
   ],
   "source": [
    "pipeline.groupby('Accident Year').size()"
   ]
  },
  {
   "cell_type": "markdown",
   "metadata": {},
   "source": [
    "Since year 2017, of this dataset, has only 2 observation, it will be excluded. The data for year 2017 seems to be incomplete since the number of observations is hundreds fewer than in other years."
   ]
  },
  {
   "cell_type": "code",
   "execution_count": 11,
   "metadata": {},
   "outputs": [],
   "source": [
    "pipeline = pipeline.loc[pipeline['Accident Year'] < 2017]"
   ]
  },
  {
   "cell_type": "markdown",
   "metadata": {},
   "source": [
    "### Summary statistics of some interesting variables."
   ]
  },
  {
   "cell_type": "markdown",
   "metadata": {},
   "source": [
    "*This data set provides values of the various costs associated with the accident, as well as the number of barrels spilled and recovered and it would be interesting to examine some of these more closely.*"
   ]
  },
  {
   "cell_type": "markdown",
   "metadata": {},
   "source": [
    "The average and median costs of property damaged during the accidents is 112,356 dollars and 3,000. This means that there are some accidents, which are outliers, and are much more expensive than most accidents that take place. They pull the average costs up from the median by over 100 thousand dollars."
   ]
  },
  {
   "cell_type": "code",
   "execution_count": 13,
   "metadata": {},
   "outputs": [
    {
     "data": {
      "text/plain": [
       "112356.25987078248"
      ]
     },
     "execution_count": 13,
     "metadata": {},
     "output_type": "execute_result"
    }
   ],
   "source": [
    "pipeline['Property Damage Costs'].mean()"
   ]
  },
  {
   "cell_type": "code",
   "execution_count": 14,
   "metadata": {},
   "outputs": [
    {
     "data": {
      "text/plain": [
       "3000.0"
      ]
     },
     "execution_count": 14,
     "metadata": {},
     "output_type": "execute_result"
    }
   ],
   "source": [
    "pipeline['Property Damage Costs'].median()"
   ]
  },
  {
   "cell_type": "markdown",
   "metadata": {},
   "source": [
    "When the general costs associated with damaged property are compared to costs associated with damages to public or private property, it becomes clear that most of the costs of damage are coming from damage to the company property. On average costs of damage to public or private proerty (aka not company property) are 75 thousand dollar less. The median costs to public and private property are zero, which means that most accidents result in very little damage to public or private property."
   ]
  },
  {
   "cell_type": "code",
   "execution_count": 15,
   "metadata": {},
   "outputs": [
    {
     "data": {
      "text/plain": [
       "25140.00251527129"
      ]
     },
     "execution_count": 15,
     "metadata": {},
     "output_type": "execute_result"
    }
   ],
   "source": [
    "pipeline['Public/Private Property Damage Costs'].mean()"
   ]
  },
  {
   "cell_type": "code",
   "execution_count": 16,
   "metadata": {},
   "outputs": [
    {
     "data": {
      "text/plain": [
       "0.0"
      ]
     },
     "execution_count": 16,
     "metadata": {},
     "output_type": "execute_result"
    }
   ],
   "source": [
    "pipeline['Public/Private Property Damage Costs'].median()"
   ]
  },
  {
   "cell_type": "code",
   "execution_count": null,
   "metadata": {},
   "outputs": [],
   "source": []
  },
  {
   "cell_type": "code",
   "execution_count": null,
   "metadata": {},
   "outputs": [],
   "source": []
  },
  {
   "cell_type": "code",
   "execution_count": null,
   "metadata": {},
   "outputs": [],
   "source": []
  },
  {
   "cell_type": "code",
   "execution_count": null,
   "metadata": {},
   "outputs": [],
   "source": []
  },
  {
   "cell_type": "code",
   "execution_count": null,
   "metadata": {},
   "outputs": [],
   "source": []
  },
  {
   "cell_type": "markdown",
   "metadata": {},
   "source": [
    "### Do intentional releases of liquid follow similar trends as unintentional releases from year to year?"
   ]
  },
  {
   "cell_type": "code",
   "execution_count": 40,
   "metadata": {},
   "outputs": [
    {
     "data": {
      "text/plain": [
       "<matplotlib.legend.Legend at 0x1cbdef94748>"
      ]
     },
     "execution_count": 40,
     "metadata": {},
     "output_type": "execute_result"
    },
    {
     "data": {
      "image/png": "[encoded data removed]",
      "text/plain": [
       "<Figure size 432x288 with 1 Axes>"
      ]
     },
     "metadata": {
      "needs_background": "light"
     },
     "output_type": "display_data"
    }
   ],
   "source": [
    "sum_by_year = pipeline.groupby(['Accident Year'])['Unintentional Release (Barrels)',\n",
    "                                                  'Intentional Release (Barrels)'].sum().reset_index()\n",
    "sum_by_year.plot(x = 'Accident Year', \n",
    "                 y = ['Unintentional Release (Barrels)', 'Intentional Release (Barrels)'], \n",
    "                 color = ['purple', 'green'])\n",
    "plt.title('Amounts of Intentional and Unintentional Liquid Released\\nin Accidents Occurring Between 2010 and 2017')\n",
    "plt.ylabel(\"Volumes Reseased (Barrels)\")\n",
    "plt.ylim(0, 150000)\n",
    "plt.legend(loc = 'upper center')\n"
   ]
  },
  {
   "cell_type": "markdown",
   "metadata": {},
   "source": [
    "Looking at the volumes of liquid released shows that both intentional and unintentional released volumes largely follow the same patterns over the years. Specifically, from 2010 to 2014 the patterns of both types of releases are very similar and differ in the magniture of the volume. During those 5 years it seems like there was a large correlation between the two types of releases - when the intentional release volume went up/down, so did the unintentional release volume. The pattern continues past 2014; however, there is slightly less concordance between the two release types. Although the unintentional release trend follows the trend of the intentional release, the volumes of the unintentional release are much larger than the volumes of the intentional release during those years."
   ]
  },
  {
   "cell_type": "markdown",
   "metadata": {},
   "source": [
    "### Where do the most accidents take place?"
   ]
  },
  {
   "cell_type": "code",
   "execution_count": 17,
   "metadata": {},
   "outputs": [
    {
     "data": {
      "image/png": "[encoded data removed]",
      "text/plain": [
       "<Figure size 576x576 with 1 Axes>"
      ]
     },
     "metadata": {},
     "output_type": "display_data"
    }
   ],
   "source": [
    "plt.figure(figsize = (8, 8))\n",
    "values = [1479, 301, 16, 985] \n",
    "labels = ['Aboveground', 'Tank', 'Transition Area', 'Underground'] \n",
    "plt.pie(values, labels=labels, autopct='%.2f')\n",
    "plt.show()"
   ]
  },
  {
   "cell_type": "markdown",
   "metadata": {},
   "source": [
    "More than half of the accidents recorded in this data set occur at above ground locations of the pipeline. The second most frequent location of accidents on the pipeline occur under ground (about 35%). There are also accidents happening in tanks and a smattering of accidents occuring in what is termed the 'transition' area, which may refer to a point of transfer from the pipe to a tank or another container. (Specific values are reported below)."
   ]
  },
  {
   "cell_type": "code",
   "execution_count": 20,
   "metadata": {},
   "outputs": [
    {
     "name": "stdout",
     "output_type": "stream",
     "text": [
      "Pipeline Type\n",
      "ABOVEGROUND        1474\n",
      "TANK                301\n",
      "TRANSITION AREA      16\n",
      "UNDERGROUND         984\n",
      "dtype: int64\n"
     ]
    }
   ],
   "source": [
    "location = pipeline.groupby(['Pipeline Type']).size()\n",
    "print(location)"
   ]
  },
  {
   "cell_type": "markdown",
   "metadata": {},
   "source": [
    "### Are there years where the number of accidents is much greater than in other years or where the location of the accidents is different than in the general trend of the data?"
   ]
  },
  {
   "cell_type": "markdown",
   "metadata": {},
   "source": [
    "#### What is the year where the most number of accidents took place? The least?"
   ]
  },
  {
   "cell_type": "code",
   "execution_count": 21,
   "metadata": {},
   "outputs": [],
   "source": [
    "yearly_accidents = pipeline.groupby('Accident Year').size().reset_index(name = 'Number of Accidents')"
   ]
  },
  {
   "cell_type": "code",
   "execution_count": 22,
   "metadata": {},
   "outputs": [
    {
     "data": {
      "text/plain": [
       "<matplotlib.axes._subplots.AxesSubplot at 0xe94150>"
      ]
     },
     "execution_count": 22,
     "metadata": {},
     "output_type": "execute_result"
    },
    {
     "data": {
      "image/png": "[encoded data removed]",
      "text/plain": [
       "<Figure size 432x288 with 1 Axes>"
      ]
     },
     "metadata": {
      "needs_background": "light"
     },
     "output_type": "display_data"
    }
   ],
   "source": [
    "colors = ['#191970', '#0038E2', '#0055D4', '#0071C6', '#008DB8', '#00AAAA',\n",
    "          '#00C69C', '#00FF80']\n",
    "yearly_accidents.plot(kind = 'bar',\n",
    "                      x = 'Accident Year',\n",
    "                      y = 'Number of Accidents',\n",
    "                      legend = False,\n",
    "                      color = colors\n",
    "                     )"
   ]
  },
  {
   "cell_type": "markdown",
   "metadata": {},
   "source": [
    "2015 is the year with the most accidents, followed closely by 2014. The years with th least number of accidents are 2011, followed closely by 2010 (2017 was excluded due to being incomplete)."
   ]
  },
  {
   "cell_type": "markdown",
   "metadata": {},
   "source": [
    "#### Is the trend showing that most accidents occur above ground, which is observed in the data at a high level, also present from year to year?"
   ]
  },
  {
   "cell_type": "markdown",
   "metadata": {},
   "source": [
    "Count the number of accidents occurring within each of the four categorizations by year."
   ]
  },
  {
   "cell_type": "code",
   "execution_count": 24,
   "metadata": {},
   "outputs": [
    {
     "name": "stdout",
     "output_type": "stream",
     "text": [
      "    Accident Year    Pipeline Type  Number of Accidents\n",
      "0            2010      ABOVEGROUND                  166\n",
      "1            2010             TANK                   37\n",
      "2            2010  TRANSITION AREA                    3\n",
      "3            2010      UNDERGROUND                  140\n",
      "4            2011      ABOVEGROUND                  174\n",
      "5            2011             TANK                   25\n",
      "6            2011  TRANSITION AREA                    4\n",
      "7            2011      UNDERGROUND                  139\n",
      "8            2012      ABOVEGROUND                  191\n",
      "9            2012             TANK                   47\n",
      "10           2012  TRANSITION AREA                    1\n",
      "11           2012      UNDERGROUND                  124\n",
      "12           2013      ABOVEGROUND                  200\n",
      "13           2013             TANK                   33\n",
      "14           2013  TRANSITION AREA                    1\n",
      "15           2013      UNDERGROUND                  166\n",
      "16           2014      ABOVEGROUND                  278\n",
      "17           2014             TANK                   35\n",
      "18           2014  TRANSITION AREA                    2\n",
      "19           2014      UNDERGROUND                  136\n",
      "20           2015      ABOVEGROUND                  244\n",
      "21           2015             TANK                   55\n",
      "22           2015  TRANSITION AREA                    4\n",
      "23           2015      UNDERGROUND                  155\n",
      "24           2016      ABOVEGROUND                  221\n",
      "25           2016             TANK                   69\n",
      "26           2016  TRANSITION AREA                    1\n",
      "27           2016      UNDERGROUND                  124\n"
     ]
    }
   ],
   "source": [
    "years = pipeline.groupby(['Accident Year',\n",
    "                          'Pipeline Type']).size().reset_index(name = 'Number of Accidents')\n",
    "\n",
    "print(years)"
   ]
  },
  {
   "cell_type": "markdown",
   "metadata": {},
   "source": [
    "Graph the counts of different accident types over the years."
   ]
  },
  {
   "cell_type": "code",
   "execution_count": 25,
   "metadata": {},
   "outputs": [
    {
     "data": {
      "text/plain": [
       "<matplotlib.axes._subplots.AxesSubplot at 0xf21af0>"
      ]
     },
     "execution_count": 25,
     "metadata": {},
     "output_type": "execute_result"
    },
    {
     "data": {
      "image/png": "[encoded data removed]",
      "text/plain": [
       "<Figure size 720x504 with 1 Axes>"
      ]
     },
     "metadata": {
      "needs_background": "light"
     },
     "output_type": "display_data"
    }
   ],
   "source": [
    "\n",
    "colors = [\"darkgreen\", \"lawngreen\", '#191970', '#008DB8']\n",
    "pivot_years = years.pivot(index = 'Accident Year', columns = 'Pipeline Type', values = 'Number of Accidents')\n",
    "#pivot_years\n",
    "pivot_years.plot.bar(stacked = True, color = colors, figsize = (10, 7) )"
   ]
  },
  {
   "cell_type": "markdown",
   "metadata": {},
   "source": [
    "While in the data overall, above ground accidents predominate, there are a couple of years where the underground accidents come very close to the number of above ground accidents. This is the case for years 2010 and 2011, where the values of both types are of accidents are much closer than they are for the other years, where the above ground accidents dominate the counts. 2017 has only two accidents, so is not really good in terms of comparison purposes."
   ]
  },
  {
   "cell_type": "markdown",
   "metadata": {},
   "source": [
    "### How do variaous accidents' costs change from year to year?"
   ]
  },
  {
   "cell_type": "code",
   "execution_count": 26,
   "metadata": {},
   "outputs": [],
   "source": [
    "sum_of_cost = pipeline.groupby(['Accident Year']).sum()\n",
    "#print(sum_of_cost)"
   ]
  },
  {
   "cell_type": "markdown",
   "metadata": {},
   "source": [
    "There is one instance of a disproportionate cost, which is around 800,000,000 million dollars, and which is an outlier in this data set. This value was removed, so that a more accurate representation of the costs as they vary by year could be obtained."
   ]
  },
  {
   "cell_type": "code",
   "execution_count": 27,
   "metadata": {},
   "outputs": [
    {
     "data": {
      "text/plain": [
       "<matplotlib.axes._subplots.AxesSubplot at 0xf87670>"
      ]
     },
     "execution_count": 27,
     "metadata": {},
     "output_type": "execute_result"
    },
    {
     "data": {
      "image/png": "[encoded data removed]",
      "text/plain": [
       "<Figure size 720x504 with 1 Axes>"
      ]
     },
     "metadata": {
      "needs_background": "light"
     },
     "output_type": "display_data"
    }
   ],
   "source": [
    "smaller = pipeline.loc[(pipeline['All Costs'] < 700000000) &\n",
    "                       (pipeline['Accident Year'] < 2017)]\n",
    "smaller.boxplot(by = 'Accident Year', column = ['All Costs'], grid = False, figsize = (10, 7))"
   ]
  },
  {
   "cell_type": "markdown",
   "metadata": {},
   "source": [
    "It seems that in general the costs associated with accidents do not vary too much from year to year. It seems like each year has a few outlying costs, which are much higher than the rest, but the number of these is, in general, consistent from year to year. There are some years where there is one accident, which ends up costig and exorbitant amount; however, the number of these accidents is very small and occurs no more than once every couple of years."
   ]
  },
  {
   "cell_type": "markdown",
   "metadata": {},
   "source": [
    "### Are there years where the amount of barrels recovered is close to how many were released in the accidents?"
   ]
  },
  {
   "cell_type": "markdown",
   "metadata": {},
   "source": [
    "To take a look at this, a new variable 'net recovery' needs to be computed from the data. It will e the difference between the amount of liquid barrels recovered and the reported net loss (in barrels)."
   ]
  },
  {
   "cell_type": "code",
   "execution_count": 28,
   "metadata": {},
   "outputs": [],
   "source": [
    "pipeline['net_recovery'] = pipeline['Liquid Recovery (Barrels)'] - pipeline['Net Loss (Barrels)']"
   ]
  },
  {
   "cell_type": "markdown",
   "metadata": {},
   "source": [
    "It is interesting to compare the net recovery over the years, to see if some years showed more successful recovery efforts."
   ]
  },
  {
   "cell_type": "code",
   "execution_count": 29,
   "metadata": {},
   "outputs": [
    {
     "data": {
      "text/plain": [
       "<matplotlib.axes._subplots.AxesSubplot at 0xe4a950>"
      ]
     },
     "execution_count": 29,
     "metadata": {},
     "output_type": "execute_result"
    },
    {
     "data": {
      "image/png": "[encoded data removed]",
      "text/plain": [
       "<Figure size 432x288 with 1 Axes>"
      ]
     },
     "metadata": {
      "needs_background": "light"
     },
     "output_type": "display_data"
    }
   ],
   "source": [
    "recovery_by_year = pipeline.groupby(['Accident Year'])['net_recovery'].sum()\n",
    "recovery_by_year.plot(kind = 'line', x = 'Accident Year', y = 'net_recovery')"
   ]
  },
  {
   "cell_type": "markdown",
   "metadata": {},
   "source": [
    "When the computed net recovery is compared from year to year, it seems like there are years where the recovery efforts could be considered excellent, all of the barrels were recovered, and some years where the recovery was very poor. Years 2013 and 2015 seem particularly poor.\n",
    "\n",
    "Also, it's important to note that in year 2014 the amount recovered seems to exceed the amount released during the accident and this warrants further investigation. Perhaps additional liquid was counted during the recovery, such as for example liquid chemicals which may have been used to aid the recovery effort."
   ]
  },
  {
   "cell_type": "markdown",
   "metadata": {},
   "source": [
    "### Proposal for further research."
   ]
  },
  {
   "cell_type": "markdown",
   "metadata": {},
   "source": [
    "It would be interesting to get further information on the different techniques used in the recovery effort and then test the various techniques for effectiveness. A statistical test could be used to test which techniques resulted in significantly greater recovery volumes or usupervised learning may be used to identify the most effective technique.\n",
    "\n",
    "It would also be increadily interesting to study the factors that may lead to the accidents occuring. For example, are there weather events, lapses in maintenance, or even personel turn over that may cause some of the accidents. This could be answered with some more advanced modeling techniques, perhaps network analysis that would identify the chain of factors that consistently lead to accidents. Additional data would need to be gathered."
   ]
  },
  {
   "cell_type": "code",
   "execution_count": null,
   "metadata": {},
   "outputs": [],
   "source": []
  }
 ],
 "metadata": {
  "kernelspec": {
   "display_name": "Python 3",
   "language": "python",
   "name": "python3"
  },
  "language_info": {
   "codemirror_mode": {
    "name": "ipython",
    "version": 3
   },
   "file_extension": ".py",
   "mimetype": "text/x-python",
   "name": "python",
   "nbconvert_exporter": "python",
   "pygments_lexer": "ipython3",
   "version": "3.7.2"
  }
 },
 "nbformat": 4,
 "nbformat_minor": 2
}
