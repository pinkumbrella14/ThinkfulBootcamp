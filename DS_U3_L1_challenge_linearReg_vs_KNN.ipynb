{
 "cells": [
  {
   "cell_type": "code",
   "execution_count": 55,
   "metadata": {},
   "outputs": [],
   "source": [
    "import math\n",
    "import warnings\n",
    "\n",
    "from IPython.display import display\n",
    "from matplotlib import pyplot as plt\n",
    "import numpy as np\n",
    "import pandas as pd\n",
    "import seaborn as sns\n",
    "from sklearn import linear_model\n",
    "from sklearn import neighbors\n",
    "from sklearn.model_selection import train_test_split\n",
    "import statsmodels.formula.api as smf\n",
    "\n",
    "#diplay preferences\n",
    "%matplotlib inline\n",
    "pd.options.display.float_format = '{: .3f}'.format\n",
    "\n",
    "#suppress harmless error\n",
    "warnings.filterwarnings(\n",
    "    action=\"ignore\",\n",
    "    module=\"scipy\",\n",
    "    message=\"^internal gelsd\"\n",
    ")"
   ]
  },
  {
   "cell_type": "code",
   "execution_count": 25,
   "metadata": {},
   "outputs": [],
   "source": [
    "#using the weather history data from Kaggle\n",
    "#https://www.kaggle.com/budincsevity/szeged-weather/version/1\n",
    "weather = pd.read_csv('C:/Users/yakan/OneDrive/Documents/Thinkful/DS_Bootcamp/U3/weatherHistory.csv')"
   ]
  },
  {
   "cell_type": "code",
   "execution_count": 8,
   "metadata": {},
   "outputs": [],
   "source": [
    "#data.drop('Unnamed: 0', axis = 1, inplace = True)"
   ]
  },
  {
   "cell_type": "code",
   "execution_count": 26,
   "metadata": {},
   "outputs": [
    {
     "data": {
      "text/html": [
       "<div>\n",
       "<style scoped>\n",
       "    .dataframe tbody tr th:only-of-type {\n",
       "        vertical-align: middle;\n",
       "    }\n",
       "\n",
       "    .dataframe tbody tr th {\n",
       "        vertical-align: top;\n",
       "    }\n",
       "\n",
       "    .dataframe thead th {\n",
       "        text-align: right;\n",
       "    }\n",
       "</style>\n",
       "<table border=\"1\" class=\"dataframe\">\n",
       "  <thead>\n",
       "    <tr style=\"text-align: right;\">\n",
       "      <th></th>\n",
       "      <th>Formatted Date</th>\n",
       "      <th>Summary</th>\n",
       "      <th>Precip Type</th>\n",
       "      <th>Temperature (C)</th>\n",
       "      <th>Apparent Temperature (C)</th>\n",
       "      <th>Humidity</th>\n",
       "      <th>Wind Speed (km/h)</th>\n",
       "      <th>Wind Bearing (degrees)</th>\n",
       "      <th>Visibility (km)</th>\n",
       "      <th>Loud Cover</th>\n",
       "      <th>Pressure (millibars)</th>\n",
       "      <th>Daily Summary</th>\n",
       "    </tr>\n",
       "  </thead>\n",
       "  <tbody>\n",
       "    <tr>\n",
       "      <th>0</th>\n",
       "      <td>2006-04-01 00:00:00.000 +0200</td>\n",
       "      <td>Partly Cloudy</td>\n",
       "      <td>rain</td>\n",
       "      <td>9.472</td>\n",
       "      <td>7.389</td>\n",
       "      <td>0.890</td>\n",
       "      <td>14.120</td>\n",
       "      <td>251.000</td>\n",
       "      <td>15.826</td>\n",
       "      <td>0.000</td>\n",
       "      <td>1015.130</td>\n",
       "      <td>Partly cloudy throughout the day.</td>\n",
       "    </tr>\n",
       "    <tr>\n",
       "      <th>1</th>\n",
       "      <td>2006-04-01 01:00:00.000 +0200</td>\n",
       "      <td>Partly Cloudy</td>\n",
       "      <td>rain</td>\n",
       "      <td>9.356</td>\n",
       "      <td>7.228</td>\n",
       "      <td>0.860</td>\n",
       "      <td>14.265</td>\n",
       "      <td>259.000</td>\n",
       "      <td>15.826</td>\n",
       "      <td>0.000</td>\n",
       "      <td>1015.630</td>\n",
       "      <td>Partly cloudy throughout the day.</td>\n",
       "    </tr>\n",
       "    <tr>\n",
       "      <th>2</th>\n",
       "      <td>2006-04-01 02:00:00.000 +0200</td>\n",
       "      <td>Mostly Cloudy</td>\n",
       "      <td>rain</td>\n",
       "      <td>9.378</td>\n",
       "      <td>9.378</td>\n",
       "      <td>0.890</td>\n",
       "      <td>3.928</td>\n",
       "      <td>204.000</td>\n",
       "      <td>14.957</td>\n",
       "      <td>0.000</td>\n",
       "      <td>1015.940</td>\n",
       "      <td>Partly cloudy throughout the day.</td>\n",
       "    </tr>\n",
       "    <tr>\n",
       "      <th>3</th>\n",
       "      <td>2006-04-01 03:00:00.000 +0200</td>\n",
       "      <td>Partly Cloudy</td>\n",
       "      <td>rain</td>\n",
       "      <td>8.289</td>\n",
       "      <td>5.944</td>\n",
       "      <td>0.830</td>\n",
       "      <td>14.104</td>\n",
       "      <td>269.000</td>\n",
       "      <td>15.826</td>\n",
       "      <td>0.000</td>\n",
       "      <td>1016.410</td>\n",
       "      <td>Partly cloudy throughout the day.</td>\n",
       "    </tr>\n",
       "    <tr>\n",
       "      <th>4</th>\n",
       "      <td>2006-04-01 04:00:00.000 +0200</td>\n",
       "      <td>Mostly Cloudy</td>\n",
       "      <td>rain</td>\n",
       "      <td>8.756</td>\n",
       "      <td>6.978</td>\n",
       "      <td>0.830</td>\n",
       "      <td>11.045</td>\n",
       "      <td>259.000</td>\n",
       "      <td>15.826</td>\n",
       "      <td>0.000</td>\n",
       "      <td>1016.510</td>\n",
       "      <td>Partly cloudy throughout the day.</td>\n",
       "    </tr>\n",
       "  </tbody>\n",
       "</table>\n",
       "</div>"
      ],
      "text/plain": [
       "                  Formatted Date        Summary Precip Type  Temperature (C)  \\\n",
       "0  2006-04-01 00:00:00.000 +0200  Partly Cloudy        rain            9.472   \n",
       "1  2006-04-01 01:00:00.000 +0200  Partly Cloudy        rain            9.356   \n",
       "2  2006-04-01 02:00:00.000 +0200  Mostly Cloudy        rain            9.378   \n",
       "3  2006-04-01 03:00:00.000 +0200  Partly Cloudy        rain            8.289   \n",
       "4  2006-04-01 04:00:00.000 +0200  Mostly Cloudy        rain            8.756   \n",
       "\n",
       "   Apparent Temperature (C)  Humidity  Wind Speed (km/h)  \\\n",
       "0                     7.389     0.890             14.120   \n",
       "1                     7.228     0.860             14.265   \n",
       "2                     9.378     0.890              3.928   \n",
       "3                     5.944     0.830             14.104   \n",
       "4                     6.978     0.830             11.045   \n",
       "\n",
       "   Wind Bearing (degrees)  Visibility (km)  Loud Cover  Pressure (millibars)  \\\n",
       "0                 251.000           15.826       0.000              1015.130   \n",
       "1                 259.000           15.826       0.000              1015.630   \n",
       "2                 204.000           14.957       0.000              1015.940   \n",
       "3                 269.000           15.826       0.000              1016.410   \n",
       "4                 259.000           15.826       0.000              1016.510   \n",
       "\n",
       "                       Daily Summary  \n",
       "0  Partly cloudy throughout the day.  \n",
       "1  Partly cloudy throughout the day.  \n",
       "2  Partly cloudy throughout the day.  \n",
       "3  Partly cloudy throughout the day.  \n",
       "4  Partly cloudy throughout the day.  "
      ]
     },
     "execution_count": 26,
     "metadata": {},
     "output_type": "execute_result"
    }
   ],
   "source": [
    "weather.head()"
   ]
  },
  {
   "cell_type": "code",
   "execution_count": 27,
   "metadata": {},
   "outputs": [],
   "source": [
    "#rename dataet columns to make them easier to type\n",
    "weather.rename(columns = {weather.columns[0]: 'date',\n",
    "                          weather.columns[1]: 'summary',\n",
    "                          weather.columns[2]: 'precip_type',\n",
    "                          weather.columns[3]: 'temp',\n",
    "                          weather.columns[4]: 'apparent_temp',\n",
    "                          weather.columns[5]: 'humidity',\n",
    "                          weather.columns[6]: 'wind_speed',\n",
    "                          weather.columns[7]: 'wind_bearing',\n",
    "                          weather.columns[8]: 'visibility',\n",
    "                          weather.columns[9]: 'cloud_cover',\n",
    "                          weather.columns[10]: 'pressure',\n",
    "                          weather.columns[11]: 'daily_summary'}, inplace = True)"
   ]
  },
  {
   "cell_type": "markdown",
   "metadata": {},
   "source": [
    "### The goal is to predict humidity using linear regression and KNN regression and compare the predictability of the models.\n",
    "\n",
    "We are also not going to use the follwing fields: date, summary, precip_type, cloud_cover, daily_summary."
   ]
  },
  {
   "cell_type": "markdown",
   "metadata": {},
   "source": [
    "#### Linear Regression"
   ]
  },
  {
   "cell_type": "code",
   "execution_count": 30,
   "metadata": {},
   "outputs": [
    {
     "name": "stdout",
     "output_type": "stream",
     "text": [
      "                temp  apparent_temp  wind_speed  wind_bearing  visibility  \\\n",
      "temp           1.000          0.993       0.009         0.030       0.393   \n",
      "apparent_temp  0.993          1.000      -0.057         0.029       0.382   \n",
      "wind_speed     0.009         -0.057       1.000         0.104       0.101   \n",
      "wind_bearing   0.030          0.029       0.104         1.000       0.048   \n",
      "visibility     0.393          0.382       0.101         0.048       1.000   \n",
      "pressure      -0.005         -0.000      -0.049        -0.012       0.060   \n",
      "\n",
      "               pressure  \n",
      "temp             -0.005  \n",
      "apparent_temp    -0.000  \n",
      "wind_speed       -0.049  \n",
      "wind_bearing     -0.012  \n",
      "visibility        0.060  \n",
      "pressure          1.000  \n"
     ]
    }
   ],
   "source": [
    "#check to see if any of the variables are highly correlated\n",
    "corr_matrix = weather[['temp', 'apparent_temp', 'wind_speed', 'wind_bearing', 'visibility', \n",
    "                       'pressure']].corr()\n",
    "print(corr_matrix)"
   ]
  },
  {
   "cell_type": "markdown",
   "metadata": {},
   "source": [
    "There is quite a high correlation between 'temp' and 'apparent_temp', which is not at all surprising, but we will just use one of the two in the models. We will use 'temp' and leave 'apparent_temp' out."
   ]
  },
  {
   "cell_type": "code",
   "execution_count": 31,
   "metadata": {},
   "outputs": [],
   "source": [
    "weather_subset = weather[['temp', 'wind_speed', 'wind_bearing', 'visibility', \n",
    "                       'pressure', 'humidity']]"
   ]
  },
  {
   "cell_type": "markdown",
   "metadata": {},
   "source": [
    "#### Check to see if the relationship between the variables and the outcome 'humidity' is linear."
   ]
  },
  {
   "cell_type": "code",
   "execution_count": 38,
   "metadata": {},
   "outputs": [
    {
     "data": {
      "image/png": "[encoded data removed]",
      "text/plain": [
       "<Figure size 432x288 with 1 Axes>"
      ]
     },
     "metadata": {
      "needs_background": "light"
     },
     "output_type": "display_data"
    }
   ],
   "source": [
    "plt.scatter(weather_subset['humidity'], weather_subset['temp'])\n",
    "plt.title('temp vs humidity')\n",
    "plt.show()"
   ]
  },
  {
   "cell_type": "markdown",
   "metadata": {},
   "source": [
    "Here the relationship does appear mostly (negatively) linear, with some outliers in the lower left."
   ]
  },
  {
   "cell_type": "code",
   "execution_count": 39,
   "metadata": {},
   "outputs": [
    {
     "data": {
      "image/png": "[encoded data removed]",
      "text/plain": [
       "<Figure size 432x288 with 1 Axes>"
      ]
     },
     "metadata": {
      "needs_background": "light"
     },
     "output_type": "display_data"
    }
   ],
   "source": [
    "plt.scatter(weather_subset['humidity'], weather_subset['wind_speed'])\n",
    "plt.title('wind_speed vs humidity')\n",
    "plt.show()"
   ]
  },
  {
   "cell_type": "markdown",
   "metadata": {},
   "source": [
    "The relationship here is not really linear - it might make sense to try and transform wind_speed or leave it out."
   ]
  },
  {
   "cell_type": "code",
   "execution_count": null,
   "metadata": {},
   "outputs": [],
   "source": []
  },
  {
   "cell_type": "code",
   "execution_count": 46,
   "metadata": {},
   "outputs": [
    {
     "data": {
      "image/png": "[encoded data removed]",
      "text/plain": [
       "<Figure size 432x288 with 1 Axes>"
      ]
     },
     "metadata": {
      "needs_background": "light"
     },
     "output_type": "display_data"
    }
   ],
   "source": [
    "plt.scatter(weather_subset['humidity'], weather_subset['pressure'])\n",
    "plt.title('pressure vs humidity')\n",
    "plt.show()"
   ]
  },
  {
   "cell_type": "code",
   "execution_count": 52,
   "metadata": {},
   "outputs": [
    {
     "name": "stderr",
     "output_type": "stream",
     "text": [
      "c:\\users\\yakan\\appdata\\local\\programs\\python\\python37-32\\lib\\site-packages\\ipykernel_launcher.py:2: SettingWithCopyWarning: \n",
      "A value is trying to be set on a copy of a slice from a DataFrame.\n",
      "Try using .loc[row_indexer,col_indexer] = value instead\n",
      "\n",
      "See the caveats in the documentation: http://pandas.pydata.org/pandas-docs/stable/indexing.html#indexing-view-versus-copy\n",
      "  \n"
     ]
    }
   ],
   "source": [
    "#here it makes to recode the pressure to 'low' and 'high' and use that in the model\n",
    "weather_subset['pressure_hi_lo'] = weather_subset['pressure'].apply(lambda x: 'low' if x < 1 else 'high')"
   ]
  },
  {
   "cell_type": "code",
   "execution_count": null,
   "metadata": {},
   "outputs": [],
   "source": []
  },
  {
   "cell_type": "code",
   "execution_count": 53,
   "metadata": {},
   "outputs": [],
   "source": [
    "linear_Y = weather_subset['humidity']\n",
    "linear_X = weather_subset[['temp', 'wind_speed', 'wind_bearing', 'visibility', 'pressure']]"
   ]
  },
  {
   "cell_type": "code",
   "execution_count": 54,
   "metadata": {},
   "outputs": [
    {
     "name": "stdout",
     "output_type": "stream",
     "text": [
      "With 20% Holdout: 0.4621509322006266\n",
      "Testing on Sample: 0.46012373320214295\n"
     ]
    }
   ],
   "source": [
    "#test the model with 20% holdout group\n",
    "regr = linear_model.LinearRegression()\n",
    "# Use train_test_split to create the necessary training and test groups\n",
    "X_train, X_test, y_train, y_test = train_test_split(linear_X, linear_Y, \n",
    "                                                    test_size=0.2, random_state=20)\n",
    "print('With 20% Holdout: ' + str(regr.fit(X_train, y_train).score(X_train, y_train)))\n",
    "print('Testing on Sample: ' + str(regr.score(X_test, y_test)))\n",
    "#score is the R2 values"
   ]
  },
  {
   "cell_type": "markdown",
   "metadata": {},
   "source": [
    "#### KNN"
   ]
  },
  {
   "cell_type": "code",
   "execution_count": 56,
   "metadata": {},
   "outputs": [],
   "source": [
    "from sklearn.neighbors import KNeighborsRegressor"
   ]
  },
  {
   "cell_type": "code",
   "execution_count": 57,
   "metadata": {},
   "outputs": [],
   "source": [
    "#make a train and test dataset from weather_subset\n",
    "knn_Y = weather_subset['humidity']\n",
    "knn_X = weather_subset[['temp', 'wind_speed', 'wind_bearing', 'visibility', 'pressure']]"
   ]
  },
  {
   "cell_type": "code",
   "execution_count": 58,
   "metadata": {},
   "outputs": [
    {
     "name": "stdout",
     "output_type": "stream",
     "text": [
      "With 20% Holdout: 0.745975139333541\n",
      "Testing on Sample: 0.6138554102816679\n"
     ]
    }
   ],
   "source": [
    "#test the model with 20% holdout group\n",
    "knn_reg = KNeighborsRegressor(n_neighbors = 5)\n",
    "# Use train_test_split to create the necessary training and test groups\n",
    "X_train, X_test, y_train, y_test = train_test_split(knn_X, knn_Y, \n",
    "                                                    test_size=0.2, random_state=20)\n",
    "print('With 20% Holdout: ' + str(knn_reg.fit(X_train, y_train).score(X_train, y_train)))\n",
    "print('Testing on Sample: ' + str(knn_reg.score(X_test, y_test)))\n",
    "#score is the R2 values"
   ]
  },
  {
   "cell_type": "code",
   "execution_count": null,
   "metadata": {},
   "outputs": [],
   "source": []
  }
 ],
 "metadata": {
  "kernelspec": {
   "display_name": "Python 3",
   "language": "python",
   "name": "python3"
  },
  "language_info": {
   "codemirror_mode": {
    "name": "ipython",
    "version": 3
   },
   "file_extension": ".py",
   "mimetype": "text/x-python",
   "name": "python",
   "nbconvert_exporter": "python",
   "pygments_lexer": "ipython3",
   "version": "3.7.2"
  }
 },
 "nbformat": 4,
 "nbformat_minor": 2
}
